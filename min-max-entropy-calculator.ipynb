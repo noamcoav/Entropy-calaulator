{
 "cells": [
  {
   "cell_type": "code",
   "execution_count": 44,
   "metadata": {},
   "outputs": [
    {
     "name": "stdout",
     "output_type": "stream",
     "text": [
      "Requirement already satisfied: pytest in c:\\users\\bgomi\\anaconda3\\lib\\site-packages (6.2.5)\n",
      "Requirement already satisfied: attrs>=19.2.0 in c:\\users\\bgomi\\anaconda3\\lib\\site-packages (from pytest) (21.4.0)\n",
      "Requirement already satisfied: iniconfig in c:\\users\\bgomi\\anaconda3\\lib\\site-packages (from pytest) (1.1.1)\n",
      "Requirement already satisfied: packaging in c:\\users\\bgomi\\anaconda3\\lib\\site-packages (from pytest) (21.3)\n",
      "Requirement already satisfied: pluggy<2.0,>=0.12 in c:\\users\\bgomi\\anaconda3\\lib\\site-packages (from pytest) (1.0.0)\n",
      "Requirement already satisfied: py>=1.8.2 in c:\\users\\bgomi\\anaconda3\\lib\\site-packages (from pytest) (1.11.0)\n",
      "Requirement already satisfied: toml in c:\\users\\bgomi\\anaconda3\\lib\\site-packages (from pytest) (0.10.2)\n",
      "Requirement already satisfied: importlib-metadata>=0.12 in c:\\users\\bgomi\\anaconda3\\lib\\site-packages (from pytest) (4.8.2)\n",
      "Requirement already satisfied: atomicwrites>=1.0 in c:\\users\\bgomi\\anaconda3\\lib\\site-packages (from pytest) (1.4.0)\n",
      "Requirement already satisfied: colorama in c:\\users\\bgomi\\anaconda3\\lib\\site-packages (from pytest) (0.4.4)\n",
      "Requirement already satisfied: typing-extensions>=3.6.4 in c:\\users\\bgomi\\anaconda3\\lib\\site-packages (from importlib-metadata>=0.12->pytest) (3.10.0.2)\n",
      "Requirement already satisfied: zipp>=0.5 in c:\\users\\bgomi\\anaconda3\\lib\\site-packages (from importlib-metadata>=0.12->pytest) (3.7.0)\n",
      "Requirement already satisfied: pyparsing!=3.0.5,>=2.0.2 in c:\\users\\bgomi\\anaconda3\\lib\\site-packages (from packaging->pytest) (3.0.4)\n",
      "Note: you may need to restart the kernel to use updated packages.\n",
      "Requirement already satisfied: cvxpy in c:\\users\\bgomi\\anaconda3\\lib\\site-packages (1.2.1)\n",
      "Requirement already satisfied: osqp>=0.4.1 in c:\\users\\bgomi\\anaconda3\\lib\\site-packages (from cvxpy) (0.6.2.post5)\n",
      "Requirement already satisfied: numpy>=1.15 in c:\\users\\bgomi\\anaconda3\\lib\\site-packages (from cvxpy) (1.21.5)\n",
      "Requirement already satisfied: scipy>=1.1.0 in c:\\users\\bgomi\\anaconda3\\lib\\site-packages (from cvxpy) (1.7.3)\n",
      "Requirement already satisfied: ecos>=2 in c:\\users\\bgomi\\anaconda3\\lib\\site-packages (from cvxpy) (2.0.10)\n",
      "Requirement already satisfied: scs>=1.1.6 in c:\\users\\bgomi\\anaconda3\\lib\\site-packages (from cvxpy) (3.2.0)\n",
      "Requirement already satisfied: qdldl in c:\\users\\bgomi\\anaconda3\\lib\\site-packages (from osqp>=0.4.1->cvxpy) (0.1.5.post2)\n",
      "Note: you may need to restart the kernel to use updated packages.\n",
      "Requirement already satisfied: cvxopt in c:\\users\\bgomi\\anaconda3\\lib\\site-packages (1.2.6)\n",
      "Note: you may need to restart the kernel to use updated packages.\n"
     ]
    }
   ],
   "source": [
    "# Install SDP solver and dependencies, slow in first run should be quicker after (a few minutes)\n",
    "\n",
    "import sys\n",
    "\n",
    "#%conda install --yes --prefix {sys.prefix} pytest\n",
    "\n",
    "#%conda install -c conda-forge --yes cvxpy\n",
    "\n",
    "#%conda install -c conda-forge --yes cvxopt\n",
    "\n",
    "%pip install pytest\n",
    "%pip install cvxpy\n",
    "%pip install cvxopt\n"
   ]
  },
  {
   "cell_type": "code",
   "execution_count": 45,
   "metadata": {},
   "outputs": [],
   "source": [
    "# Import packages\n",
    "import cvxpy as cp\n",
    "import numpy as np\n",
    "import cvxopt\n",
    "from cvxpy.expressions.expression import Expression\n"
   ]
  },
  {
   "cell_type": "code",
   "execution_count": 46,
   "metadata": {},
   "outputs": [
    {
     "name": "stdout",
     "output_type": "stream",
     "text": [
      "rho_AB test correct?  True\n",
      "rho_AC test correct?  True\n",
      "rho_A test correct?  True\n",
      "rho_B test correct?  True\n",
      "rho_C test correct?  True\n"
     ]
    }
   ],
   "source": [
    "# implament partial trace for Hmin Hmax\n",
    "def expr_as_np_array(cvx_expr):\n",
    "    if cvx_expr.is_scalar():\n",
    "        return np.array(cvx_expr)\n",
    "    elif len(cvx_expr.shape) == 1:\n",
    "        return np.array([v for v in cvx_expr])\n",
    "    else:\n",
    "        # then cvx_expr is a 2d array\n",
    "        rows = []\n",
    "        for i in range(cvx_expr.shape[0]):\n",
    "            row = [cvx_expr[i,j] for j in range(cvx_expr.shape[1])]\n",
    "            rows.append(row)\n",
    "        arr = np.array(rows)\n",
    "        return arr\n",
    "\n",
    "\n",
    "def np_array_as_expr(np_arr):\n",
    "    aslist = np_arr.tolist()\n",
    "    expr = cp.bmat(aslist)\n",
    "    return expr\n",
    "\n",
    "\n",
    "def np_partial_trace(rho, dims, axis=0):\n",
    "    \"\"\"\n",
    "    Takes partial trace over the subsystem defined by 'axis'\n",
    "    rho: a matrix\n",
    "    dims: a list containing the dimension of each subsystem\n",
    "    axis: the index of the subsytem to be traced out\n",
    "    (We assume that each subsystem is square)\n",
    "    \"\"\"\n",
    "    dims_ = np.array(dims)\n",
    "    # Reshape the matrix into a tensor with the following shape:\n",
    "    # [dim_0, dim_1, ..., dim_n, dim_0, dim_1, ..., dim_n]\n",
    "    # Each subsystem gets one index for its row and another one for its column\n",
    "    reshaped_rho = np.reshape(rho, np.concatenate((dims_, dims_), axis=None))\n",
    "\n",
    "    # Move the subsystems to be traced towards the end\n",
    "    reshaped_rho = np.moveaxis(reshaped_rho, axis, -1)\n",
    "    reshaped_rho = np.moveaxis(reshaped_rho, len(dims)+axis-1, -1)\n",
    "\n",
    "    # Trace over the very last row and column indices\n",
    "    traced_out_rho = np.trace(reshaped_rho, axis1=-2, axis2=-1)\n",
    "\n",
    "    # traced_out_rho is still in the shape of a tensor\n",
    "    # Reshape back to a matrix\n",
    "    dims_untraced = np.delete(dims_, axis)\n",
    "    rho_dim = np.prod(dims_untraced)\n",
    "    return traced_out_rho.reshape([rho_dim, rho_dim])\n",
    "\n",
    "\n",
    "def partial_trace(rho, dims, axis=0):\n",
    "    if not isinstance(rho, Expression):\n",
    "        rho = cp.Constant(shape=rho.shape, value=rho)\n",
    "    rho_np = expr_as_np_array(rho)\n",
    "    traced_rho = np_partial_trace(rho_np, dims, axis)\n",
    "    traced_rho = np_array_as_expr(traced_rho)\n",
    "    return traced_rho\n",
    "\n",
    "\n",
    "\n",
    "\"\"\"\n",
    "Test out the partial_trace numpy module by creating a matrix\n",
    "rho_ABC = rho_A \\otimes rho_B \\otimes rho_C\n",
    "Each rho_i is normalized, i.e. Tr(rho_i) = 1\n",
    "\"\"\"\n",
    "\n",
    "# Generate five test cases\n",
    "rho_A = np.random.rand(4, 4) + 1j*np.random.rand(4, 4)\n",
    "rho_A /= np.trace(rho_A)\n",
    "rho_B = np.random.rand(3, 3) + 1j*np.random.rand(3, 3)\n",
    "rho_B /= np.trace(rho_B)\n",
    "rho_C = np.random.rand(2, 2) + 1j*np.random.rand(2, 2)\n",
    "rho_C /= np.trace(rho_C)\n",
    "rho_AB = np.kron(rho_A, rho_B)\n",
    "rho_AC = np.kron(rho_A, rho_C)\n",
    "\n",
    "# Construct a cvxpy Variable with value equal to rho_A \\otimes rho_B \\otimes rho_C.\n",
    "temp = np.kron(rho_AB, rho_C)\n",
    "rho_ABC = cp.Variable(shape=temp.shape, complex=True)\n",
    "rho_ABC.value = temp\n",
    "\n",
    "# Try to recover simpler tensors products by taking partial traces of\n",
    "# more complicated tensors.\n",
    "rho_AB_test = partial_trace(rho_ABC, [4, 3, 2], axis=2)\n",
    "rho_AC_test = partial_trace(rho_ABC, [4, 3, 2], axis=1)\n",
    "rho_A_test = partial_trace(rho_AB_test, [4, 3], axis=1)\n",
    "rho_B_test = partial_trace(rho_AB_test, [4, 3], axis=0)\n",
    "rho_C_test = partial_trace(rho_AC_test, [4, 2], axis=0)\n",
    "\n",
    "# See if the outputs of partial_trace are correct\n",
    "print(\"rho_AB test correct? \", np.allclose(rho_AB_test.value, rho_AB))\n",
    "print(\"rho_AC test correct? \", np.allclose(rho_AC_test.value, rho_AC))\n",
    "print(\"rho_A test correct? \", np.allclose(rho_A_test.value, rho_A))\n",
    "print(\"rho_B test correct? \", np.allclose(rho_B_test.value, rho_B))\n",
    "print(\"rho_C test correct? \", np.allclose(rho_C_test.value, rho_C))"
   ]
  },
  {
   "cell_type": "code",
   "execution_count": 47,
   "metadata": {},
   "outputs": [],
   "source": [
    "def Hmin2(A,B):\n",
    "    \"\"\"takes rhoA, rhoB numpy arays and returns H_min(A|B)_rho\"\"\"\n",
    "    rhoA = np.asmatrix(A)\n",
    "    rhoB = np.asmatrix(B)\n",
    "    if (rhoA.getH() == rhoA).all() & (rhoB.getH() == rhoB).all():\n",
    "        n = rhoA.shape[0]\n",
    "        m = rhoB.shape[0]\n",
    "        IA = np.identity(n)\n",
    "        IB = np.identity(m)\n",
    "        A = cp.Parameter((n,n))\n",
    "        B = cp.Parameter((m,m))\n",
    "        A.value = rhoA/np.trace(rhoA)\n",
    "        B.value = rhoB/np.trace(rhoB)\n",
    "\n",
    "        AB = cp.kron(A,B)/cp.trace(cp.kron(A,B))\n",
    "\n",
    "\n",
    "        # Calculate exp(-H_min(A|B))\n",
    "        # Define and solve the CVXPY problem.\n",
    "        # Create a hermitian matrix variable.\n",
    "        XB = cp.Variable((m,m),pos=True) \n",
    "        # The operator >> denotes matrix inequality.\n",
    "        constraints = []\n",
    "        constraints += [cp.kron(IA,XB) >> AB]\n",
    "\n",
    "        prob = cp.Problem(cp.Minimize(cp.trace(XB)),      \n",
    "                          constraints)\n",
    "        prob.solve()\n",
    "        return(-np.log2(prob.value))\n",
    "    else:\n",
    "        print(\"rhoA and rhoB must be square and of the same dim\")"
   ]
  },
  {
   "cell_type": "code",
   "execution_count": 48,
   "metadata": {},
   "outputs": [],
   "source": [
    "def Hmin(rhoAB,dimA,dimB):\n",
    "    \"\"\"takes rhoAB, numpy array and dimA,dimB and returns H_min(A|B)_rho (rhoAB can be non-normal. it is normalized in th function)\"\"\"\n",
    "    if dimA*dimB != rhoAB.shape[0]:\n",
    "        return(\"dimA*dimB != shape(rhoAB)\")\n",
    "    if np.any(np.linalg.eigvals(rhoAB) < 0):\n",
    "        return(\"rhoAB is not positive semi-definite, min eigenvalue = \",min(np.linalg.eigvals(rhoAB)))\n",
    "    n = dimA\n",
    "    m = dimB\n",
    "    AB = cp.Parameter((n*m,n*m))\n",
    "    AB.value = rhoAB/np.trace(rhoAB)\n",
    "    IA = np.identity(n)\n",
    "    XB = cp.Variable((m,m)) \n",
    "    constraints = []\n",
    "    constraints += [cp.kron(IA,XB) >> AB]\n",
    "    constraints += [XB >> 0]\n",
    "    prob = cp.Problem(cp.Minimize(cp.trace(XB)),      \n",
    "                        constraints)\n",
    "    prob.solve()\n",
    "    return(-np.log2(prob.value))"
   ]
  },
  {
   "cell_type": "code",
   "execution_count": 49,
   "metadata": {},
   "outputs": [],
   "source": [
    "def Hmax(rhoAB,dimA,dimB):\n",
    "    \"\"\"takes rhoAB, numpy array and dimA,dimB and returns H_max(A|B)_rho (rhoAB can be sub-normal it is normalized in th function)\"\"\"\n",
    "    if dimA*dimB != rhoAB.shape[0]:\n",
    "        print(\"dimA*dimB != shape(rhoAB)\")\n",
    "    if np.any(np.linalg.eigvals(rhoAB) < 0):\n",
    "        print(\"rhoAB is not positive semi-definite, min eigenvalue = \",min(np.linalg.eigvals(rhoAB)))\n",
    "    n = dimA\n",
    "    m = dimB\n",
    "    AB = cp.Parameter((n*m,n*m))\n",
    "    AB.value = rhoAB/np.trace(rhoAB)\n",
    "    IA = np.identity(n)\n",
    "    X11 = cp.Variable((n*m,n*m))\n",
    "    X22 = cp.Variable((n*m,n*m)) \n",
    "    X12 = cp.Variable((n*m,n*m))\n",
    "    X21 = cp.Variable((n*m,n*m))\n",
    "    SigB = cp.Variable((m,m))     \n",
    "    I11 = np.array([[1,0],[0,0]])\n",
    "    I12 = np.array([[0,1],[0,0]])\n",
    "    I21 = np.array([[0,0],[1,0]])\n",
    "    I22 = np.array([[0,0],[0,1]])\n",
    "    XAB = cp.kron(I11,X11)+cp.kron(I22,X22)+cp.kron(I12,X12)+cp.kron(I21,X21)\n",
    "\n",
    "    constraints = []\n",
    "    constraints += [X11<<AB]\n",
    "    constraints += [X22<<cp.kron(IA,SigB)]\n",
    "    constraints += [cp.trace(SigB)<=1]\n",
    "    constraints += [XAB>>0]\n",
    "    constraints += [SigB>>0]\n",
    "    \n",
    "    prob = cp.Problem(cp.Maximize(0.5*(cp.trace(X12)+cp.trace(X21))),      \n",
    "                        constraints)\n",
    "    prob.solve()\n",
    "    #print(prob.value,XAB.value)\n",
    "    return(2*np.log2(prob.value))\n"
   ]
  },
  {
   "cell_type": "code",
   "execution_count": 50,
   "metadata": {},
   "outputs": [
    {
     "name": "stdout",
     "output_type": "stream",
     "text": [
      "Hmax(rho) =-0.9998628381631405\n",
      "Hmin(rho) =-0.9999999999608373\n",
      "[2. 0. 0. 0.]\n"
     ]
    }
   ],
   "source": [
    "rho = np.array([[0,0,0,0]\n",
    "                ,[0,1,-1,0]\n",
    "                ,[0,-1,1,0]\n",
    "                ,[0,0,0,0]])\n",
    "\n",
    "\n",
    "print(\"Hmax(rho) =\" + str(Hmax(rho,2,2)))\n",
    "print(\"Hmin(rho) =\" + str(Hmin(rho,2,2)))\n",
    "print(np.linalg.eigvals(rho))"
   ]
  },
  {
   "cell_type": "markdown",
   "metadata": {},
   "source": [
    "# Testing rhoAB's"
   ]
  },
  {
   "cell_type": "markdown",
   "metadata": {},
   "source": [
    "We want to look at what the projections turn out to be if we let bob measure, get q-c state, \n",
    "and then what projections Alice actually does for the binning. \n",
    "Look specifically at the pure state pi = |00>-|11>, and on it plus some (diagonal) noise."
   ]
  },
  {
   "cell_type": "code",
   "execution_count": 51,
   "metadata": {},
   "outputs": [
    {
     "data": {
      "text/plain": [
       "array([[1., 0., 0., 0., 0., 1., 0., 0., 0., 0., 1., 0., 0., 0., 0., 1.],\n",
       "       [0., 0., 0., 0., 0., 0., 0., 0., 0., 0., 0., 0., 0., 0., 0., 0.],\n",
       "       [0., 0., 0., 0., 0., 0., 0., 0., 0., 0., 0., 0., 0., 0., 0., 0.],\n",
       "       [0., 0., 0., 0., 0., 0., 0., 0., 0., 0., 0., 0., 0., 0., 0., 0.],\n",
       "       [0., 0., 0., 0., 0., 0., 0., 0., 0., 0., 0., 0., 0., 0., 0., 0.],\n",
       "       [1., 0., 0., 0., 0., 1., 0., 0., 0., 0., 1., 0., 0., 0., 0., 1.],\n",
       "       [0., 0., 0., 0., 0., 0., 0., 0., 0., 0., 0., 0., 0., 0., 0., 0.],\n",
       "       [0., 0., 0., 0., 0., 0., 0., 0., 0., 0., 0., 0., 0., 0., 0., 0.],\n",
       "       [0., 0., 0., 0., 0., 0., 0., 0., 0., 0., 0., 0., 0., 0., 0., 0.],\n",
       "       [0., 0., 0., 0., 0., 0., 0., 0., 0., 0., 0., 0., 0., 0., 0., 0.],\n",
       "       [1., 0., 0., 0., 0., 1., 0., 0., 0., 0., 1., 0., 0., 0., 0., 1.],\n",
       "       [0., 0., 0., 0., 0., 0., 0., 0., 0., 0., 0., 0., 0., 0., 0., 0.],\n",
       "       [0., 0., 0., 0., 0., 0., 0., 0., 0., 0., 0., 0., 0., 0., 0., 0.],\n",
       "       [0., 0., 0., 0., 0., 0., 0., 0., 0., 0., 0., 0., 0., 0., 0., 0.],\n",
       "       [0., 0., 0., 0., 0., 0., 0., 0., 0., 0., 0., 0., 0., 0., 0., 0.],\n",
       "       [1., 0., 0., 0., 0., 1., 0., 0., 0., 0., 1., 0., 0., 0., 0., 1.]])"
      ]
     },
     "execution_count": 51,
     "metadata": {},
     "output_type": "execute_result"
    }
   ],
   "source": [
    "def maxmix(d):\n",
    "    \"\"\"Returns an np array of a maximally mixed state of schmidt rank 2^d\"\"\"\n",
    "    dim = 2**d\n",
    "    L = np.zeros(dim**2)\n",
    "    for i in range(dim):\n",
    "        keti = np.zeros(dim)\n",
    "        keti[i] = 1\n",
    "        ketketi = np.kron(keti,keti)\n",
    "        L += ketketi\n",
    "    return(np.outer(L,L))\n",
    "\n",
    "\n",
    "maxmix(2)\n"
   ]
  },
  {
   "cell_type": "code",
   "execution_count": 83,
   "metadata": {},
   "outputs": [
    {
     "name": "stdout",
     "output_type": "stream",
     "text": [
      "Hmin= 0.09819259133693443 Hmax= 1.1495148396124102 dif =  1.0513222482754758 upper bound of dif is 2log(d_a)= 3.169925001442312\n",
      "[3.33066907e-16 1.74457630e-01 4.40926985e-01 3.99709691e-16\n",
      " 7.69230769e-02 7.69230769e-02 7.69230769e-02 7.69230769e-02\n",
      " 7.69230769e-02]\n",
      "(9, 9)\n"
     ]
    },
    {
     "data": {
      "text/plain": [
       "array([0.23076923, 0.23076923, 0.53846154])"
      ]
     },
     "execution_count": 83,
     "metadata": {},
     "output_type": "execute_result"
    }
   ],
   "source": [
    "a = 0.2\n",
    "eps = 10**(-15)\n",
    "bound = np.zeros([9,9])\n",
    "for i in range(9):\n",
    "    bound[i,i] = a\n",
    "bound[8,8] = bound[6,6] = (1+a)/2\n",
    "bound[0,8] = bound[8,0] = bound[4,0] = bound[0,4] = bound[8,4] = bound[4,8] = a\n",
    "bound[6,8] = bound[8,6] = np.sqrt(1-a**2)/2\n",
    "\n",
    "\n",
    "dimA = dimB = 3\n",
    "rhoAB = bound + eps*np.identity(9)\n",
    "\n",
    "rhoAB = rhoAB/(8*a+1)\n",
    "\n",
    "print(\"Hmin=\",Hmin(rhoAB,dimA,dimB),\"Hmax=\",Hmax(rhoAB,dimA,dimB),\"dif = \", Hmax(rhoAB,dimA,dimB)-Hmin(rhoAB,dimA,dimB),\"upper bound of dif is 2log(d_a)=\", 2*np.log2(dimA))\n",
    "\n",
    "print(np.linalg.eigvals(rhoAB))\n",
    "print(rhoAB.shape)\n",
    "\n",
    "\n",
    "np.linalg.eigvals(np_partial_trace(rhoAB, [3, 3], axis=1))"
   ]
  },
  {
   "cell_type": "code",
   "execution_count": 54,
   "metadata": {},
   "outputs": [
    {
     "name": "stdout",
     "output_type": "stream",
     "text": [
      "rhoAB=\n",
      " [[0.247 0.    0.    0.    0.    0.246 0.    0.    0.    0.    0.246 0.\n",
      "  0.    0.    0.    0.246]\n",
      " [0.    0.001 0.    0.    0.    0.    0.    0.    0.    0.    0.    0.\n",
      "  0.    0.    0.    0.   ]\n",
      " [0.    0.    0.001 0.    0.    0.    0.    0.    0.    0.    0.    0.\n",
      "  0.    0.    0.    0.   ]\n",
      " [0.    0.    0.    0.001 0.    0.    0.    0.    0.    0.    0.    0.\n",
      "  0.    0.    0.    0.   ]\n",
      " [0.    0.    0.    0.    0.001 0.    0.    0.    0.    0.    0.    0.\n",
      "  0.    0.    0.    0.   ]\n",
      " [0.246 0.    0.    0.    0.    0.247 0.    0.    0.    0.    0.246 0.\n",
      "  0.    0.    0.    0.246]\n",
      " [0.    0.    0.    0.    0.    0.    0.001 0.    0.    0.    0.    0.\n",
      "  0.    0.    0.    0.   ]\n",
      " [0.    0.    0.    0.    0.    0.    0.    0.001 0.    0.    0.    0.\n",
      "  0.    0.    0.    0.   ]\n",
      " [0.    0.    0.    0.    0.    0.    0.    0.    0.001 0.    0.    0.\n",
      "  0.    0.    0.    0.   ]\n",
      " [0.    0.    0.    0.    0.    0.    0.    0.    0.    0.001 0.    0.\n",
      "  0.    0.    0.    0.   ]\n",
      " [0.246 0.    0.    0.    0.    0.246 0.    0.    0.    0.    0.247 0.\n",
      "  0.    0.    0.    0.246]\n",
      " [0.    0.    0.    0.    0.    0.    0.    0.    0.    0.    0.    0.001\n",
      "  0.    0.    0.    0.   ]\n",
      " [0.    0.    0.    0.    0.    0.    0.    0.    0.    0.    0.    0.\n",
      "  0.001 0.    0.    0.   ]\n",
      " [0.    0.    0.    0.    0.    0.    0.    0.    0.    0.    0.    0.\n",
      "  0.    0.001 0.    0.   ]\n",
      " [0.    0.    0.    0.    0.    0.    0.    0.    0.    0.    0.    0.\n",
      "  0.    0.    0.001 0.   ]\n",
      " [0.246 0.    0.    0.    0.    0.246 0.    0.    0.    0.    0.246 0.\n",
      "  0.    0.    0.    0.247]]\n",
      "Hmin= -1.9781956297081953 Hmax= -0.8946291268156973 dif =  1.0835665028924981 upper bound of dif is 2log(d_a)= 4.0\n"
     ]
    }
   ],
   "source": [
    "#defined directly\n",
    "#example of conditional entropies for a maximally mixed state (|phi> = sum|ii>, rhoAB = |phi><phi|) with error of err\n",
    "err = 0.015\n",
    "d = 2\n",
    "dimA = dimB = 2**d\n",
    "maxmixd = maxmix(d)/np.trace(maxmix(d))\n",
    "\n",
    "rhoAB = (1-err)*maxmixd+err*(np.identity(dimB**2)-maxmixd)/np.trace(np.identity(dimB**2)-maxmixd)\n",
    "\n",
    "\n",
    "print(\"rhoAB=\\n\",rhoAB)\n",
    "dimA = int(np.sqrt(rhoAB.shape[0]))\n",
    "dimB = int(np.sqrt(rhoAB.shape[0]))\n",
    "print(\"Hmin=\",Hmin(rhoAB,dimA,dimB),\"Hmax=\",Hmax(rhoAB,dimA,dimB),\"dif = \", Hmax(rhoAB,dimA,dimB)-Hmin(rhoAB,dimA,dimB),\"upper bound of dif is 2log(d_a)=\", 2*np.log2(dimA))\n"
   ]
  },
  {
   "cell_type": "code",
   "execution_count": 55,
   "metadata": {},
   "outputs": [
    {
     "data": {
      "text/plain": [
       "16"
      ]
     },
     "execution_count": 55,
     "metadata": {},
     "output_type": "execute_result"
    }
   ],
   "source": [
    "d = 4\n",
    "np.linalg.matrix_rank(np_partial_trace(maxmix(d),[2**d,2**d],axis=0))"
   ]
  },
  {
   "cell_type": "code",
   "execution_count": 56,
   "metadata": {},
   "outputs": [
    {
     "name": "stdout",
     "output_type": "stream",
     "text": [
      "Hmin= 6.413259860638891e-13 Hmax= 0.5431309105951471 dif =  0.5431309105945057 , upper bound of dif is 2log(d_a)= 2.0\n"
     ]
    }
   ],
   "source": [
    "# Example of a state \n",
    "# |phi> = a|00>+b|01>+c|10>+d|11>\n",
    "# rhoAB = |phi><phi|\n",
    "\n",
    "ketrho = np.array([1,0,0,1])#,0,1,0,0,0,0,1,0,0,0,0,1])\n",
    "\n",
    "rhoAB = np.outer(ketrho,ketrho)\n",
    "\n",
    "rhoAB = rhoAB + np.identity(4)\n",
    "\n",
    "rhoAB = rhoAB - np.outer(np.array([1,0,0,0]),np.array([1,0,0,0]))-np.outer(np.array([0,0,0,1]),np.array([0,0,0,1]))\n",
    "\n",
    "\n",
    "#Define Up- a basis transformation\n",
    "Up = np.array(( [1,1],\n",
    "                [1,-1]))\n",
    "\n",
    "\n",
    "#Apply Up transform on A and B\n",
    "U = np.kron(Up,Up)\n",
    "\n",
    "\n",
    "#rhoAB = np.matmul(np.linalg.inv(U),np.matmul(rhoAB,U))\n",
    "\n",
    "#rhoAB = np.kron(rhoAB,rhoAB)\n",
    "\n",
    "#print(\"rhoAB=\\n\",rhoAB/np.trace(rhoAB))\n",
    "dimA = int(np.sqrt(rhoAB.shape[0]))\n",
    "dimB = int(np.sqrt(rhoAB.shape[0]))\n",
    "print(\"Hmin=\",Hmin(rhoAB,dimA,dimB),\"Hmax=\",Hmax(rhoAB,dimA,dimB),\"dif = \", Hmax(rhoAB,dimA,dimB)-Hmin(rhoAB,dimA,dimB),\", upper bound of dif is 2log(d_a)=\", 2*np.log2(dimA))"
   ]
  },
  {
   "cell_type": "code",
   "execution_count": 57,
   "metadata": {},
   "outputs": [
    {
     "name": "stdout",
     "output_type": "stream",
     "text": [
      "rhoAB=\n",
      " [[0.25 0.   0.   0.  ]\n",
      " [0.   0.25 0.   0.  ]\n",
      " [0.   0.   0.25 0.  ]\n",
      " [0.   0.   0.   0.25]]\n",
      "Hmin= 1.0000000070196844 Hmax= 0.9999999879199816 dif =  -1.909970281932516e-08 , upper bound of dif is 2log(d_a)= 2.0\n"
     ]
    },
    {
     "data": {
      "text/plain": [
       "array([1., 1., 1., 1.])"
      ]
     },
     "execution_count": 57,
     "metadata": {},
     "output_type": "execute_result"
    }
   ],
   "source": [
    "#post measurement on Bob side\n",
    "\n",
    "\n",
    "rhoABp = rhoAB\n",
    "\n",
    "\n",
    "rhoABp[0,1]=rhoABp[0,3]=rhoABp[1,0]=rhoABp[1,2]=0\n",
    "rhoABp[2,1]=rhoABp[2,3]=rhoABp[3,0]=rhoABp[3,2]=0\n",
    "\n",
    "\n",
    "print(\"rhoAB=\\n\",rhoABp/np.trace(rhoABp))\n",
    "dimA = int(np.sqrt(rhoABp.shape[0]))\n",
    "dimB = int(np.sqrt(rhoABp.shape[0]))\n",
    "print(\"Hmin=\",Hmin(rhoABp,dimA,dimB),\"Hmax=\",Hmax(rhoABp,dimA,dimB),\"dif = \", Hmax(rhoABp,dimA,dimB)-Hmin(rhoABp,dimA,dimB),\", upper bound of dif is 2log(d_a)=\", 2*np.log2(dimA))\n",
    "\n",
    "np.linalg.eigvals(rhoABp)"
   ]
  },
  {
   "cell_type": "code",
   "execution_count": 58,
   "metadata": {},
   "outputs": [
    {
     "name": "stdout",
     "output_type": "stream",
     "text": [
      "maxA/minA = 1.0\n",
      "maxB/minB = 1.0\n",
      "maxAB/minAB = 1.0\n",
      "(maxA/minA)*(maxB/minB)=  1.0\n",
      "rhoA=\n",
      " [[2. 0.]\n",
      " [0. 2.]] \n",
      " rhoB=\n",
      " [[2. 0.]\n",
      " [0. 2.]]\n",
      "eigenvalues of rhoA=\n",
      " [2. 2.] \n",
      " eigenvalues of rhoB=\n",
      " [2. 2.] \n",
      " eigenvalues of rhoAB=\n",
      " [1. 1. 1. 1.]\n",
      "4.0\n",
      "rhoA(tnsor)rhoB=\n",
      " [[4. 0. 0. 0.]\n",
      " [0. 4. 0. 0.]\n",
      " [0. 0. 4. 0.]\n",
      " [0. 0. 0. 4.]]\n"
     ]
    }
   ],
   "source": [
    "#looking at the subsystems and at the ratio of the eigenvalues\n",
    "# example of a state with low igenvalue ratios maxA/minA maxB/minB but high maxAB/minAB, \n",
    "# so limiting the eigenvalues of the subsistems + LOCC is not eneugh to limit eigenvalues of the bipartite system.\n",
    "#rhoAB = np.array(([1,1,1,0],\n",
    "#                  [1,1600,0,1],\n",
    "#                  [1,0,1600,1],\n",
    "#                  [0,1,1,1]))\n",
    "\n",
    "n = int(np.sqrt(rhoAB.shape[0]))\n",
    "AB = cp.Parameter((n**2,n**2))\n",
    "AB.value = rhoAB\n",
    "rhoA = partial_trace(AB,[n,n],axis=1)\n",
    "rhoA = np.asmatrix(rhoA.value)\n",
    "rhoB = partial_trace(AB,[n,n],axis=0)\n",
    "rhoB = np.asmatrix(rhoB.value)\n",
    "nonzeroiegensAB = [np.linalg.eigvals(rhoAB)[i] for i in range(len(np.linalg.eigvals(rhoAB))) if np.linalg.eigvals(rhoAB)[i] > 0.001]\n",
    "nonzeroiegensA = [np.linalg.eigvals(rhoA)[i] for i in range(len(np.linalg.eigvals(rhoA))) if np.linalg.eigvals(rhoA)[i] > 0.001]\n",
    "nonzeroiegensB = [np.linalg.eigvals(rhoB)[i] for i in range(len(np.linalg.eigvals(rhoB))) if np.linalg.eigvals(rhoB)[i] > 0.001]\n",
    "\n",
    "print(\"maxA/minA =\", max(nonzeroiegensA)/min(nonzeroiegensA))\n",
    "print(\"maxB/minB =\", max(nonzeroiegensB)/min(nonzeroiegensB))\n",
    "print(\"maxAB/minAB =\", max(nonzeroiegensAB)/min(nonzeroiegensAB))\n",
    "print(\"(maxA/minA)*(maxB/minB)= \", (max(nonzeroiegensB)/min(nonzeroiegensB))*max(nonzeroiegensA)/min(nonzeroiegensA))\n",
    "print(\"rhoA=\\n\", rhoA,\"\\n\" ,\"rhoB=\\n\",rhoB)\n",
    "\n",
    "print(\"eigenvalues of rhoA=\\n\",np.linalg.eigvals(rhoA), \"\\n eigenvalues of rhoB=\\n\" ,np.linalg.eigvals(rhoB),\"\\n eigenvalues of rhoAB=\\n\", np.linalg.eigvals(rhoAB))\n",
    "\n",
    "print(np.trace(rhoAB))\n",
    "rhoC = np.kron(rhoA,rhoB)\n",
    "print(\"rhoA(tnsor)rhoB=\\n\",rhoC)"
   ]
  },
  {
   "cell_type": "markdown",
   "metadata": {},
   "source": [
    "## Now I tryed to calculate max_rhoB Hmin(A|B)_rho and min_rhoB Hmax(A|B)_rhoB to see if the difference can be bounded with limitations only on rhoA and rank rho_B (seems like this is not possible, maxHmin can be very big even if B is a small state)"
   ]
  },
  {
   "cell_type": "code",
   "execution_count": 59,
   "metadata": {},
   "outputs": [],
   "source": [
    "def Hmin_maxoverB(rhoA,dimB):\n",
    "    \"\"\"takes rhoA, rank(rhoB) numpy aray and int and returns max_rhoB H_min(A|B)_rho\"\"\"\n",
    "    if (np.asmatrix(rhoA).getH() == np.asmatrix(rhoA)).all():\n",
    "        n = rhoA.shape[0]\n",
    "        m = dimB\n",
    "        IA = np.identity(n)\n",
    "        IB = np.identity(m)\n",
    "        A = cp.Parameter((n,n))\n",
    "        B = cp.Variable((m,m),PSD = True)\n",
    "        A.value = rhoA/np.trace(rhoA)\n",
    "        #B.value = rhoB/np.trace(rhoB)\n",
    "\n",
    "        #AB = cp.Variable((m*n,m*n))\n",
    "        AB = cp.kron(A,B)#/cp.trace(cp.kron(A,B))\n",
    "\n",
    "\n",
    "        # Calculte exp(-H_min(A|B))\n",
    "        # Define and solve the CVXPY problem.\n",
    "        # Create a hermitian matrix variable.\n",
    "        XB = cp.Variable((m,m),pos=True) \n",
    "        # The operator >> denotes matrix inequality.\n",
    "\n",
    "\n",
    "        constraints = []\n",
    "        constraints += [cp.kron(IA,XB) >> AB] # cp.kron(A,B)*(1/cp.trace(cp.kron(A,B)))] #I*X >= rho_{AB} = A*B\n",
    "        constraints += [cp.trace(AB)<=1]\n",
    "        constraints += [cp.trace(B)<=1]\n",
    "        #constraints += [B<<0.0005*IB]\n",
    "        #constraints += [B>>0.25*IB]\n",
    "\n",
    "        prob = cp.Problem(cp.Minimize(cp.trace(XB)),      \n",
    "                          constraints)\n",
    "        prob.solve()\n",
    "        print(\"B=\",B.value)\n",
    "        print(prob.value)\n",
    "        return(-np.log2(prob.value))\n",
    "    else:\n",
    "        print(\"rhoA and rhoB must be squere and of the same dim\")"
   ]
  },
  {
   "cell_type": "code",
   "execution_count": 60,
   "metadata": {},
   "outputs": [
    {
     "name": "stdout",
     "output_type": "stream",
     "text": [
      "rhoABp=\n",
      " [[ 1  0  2  0]\n",
      " [ 0  4  0  8]\n",
      " [ 2  0  4  0]\n",
      " [ 0  8  0 16]]\n",
      "Hmin= 2.821033482082112e-11 Hmax= 6.2732379001695e-05 dif =  6.273235079136017e-05 upper bound of dif is 2log(d_a)= 2.0\n"
     ]
    }
   ],
   "source": [
    "A = np.array([[1,2],\n",
    "              [2,4]])\n",
    "B = np.array([[1,0],\n",
    "              [0,4]])\n",
    "\n",
    "rAB = np.kron(A,B)\n",
    "\n",
    "print(\"rhoABp=\\n\",rAB)\n",
    "dimA = int(np.sqrt(rAB.shape[0]))\n",
    "dimB = int(np.sqrt(rAB.shape[0]))\n",
    "print(\"Hmin=\",Hmin(rAB,dimA,dimB),\"Hmax=\",Hmax(rAB,dimA,dimB),\"dif = \", Hmax(rAB,dimA,dimB)-Hmin(rAB,dimA,dimB),\"upper bound of dif is 2log(d_a)=\", 2*np.log2(dimA))\n"
   ]
  },
  {
   "cell_type": "code",
   "execution_count": 61,
   "metadata": {},
   "outputs": [
    {
     "data": {
      "text/plain": [
       "array([ 5.00000000e-01-7.66832354e-18j, -1.69967494e-17+7.66832354e-18j,\n",
       "        1.69967494e-17-7.66832354e-18j,  5.00000000e-01+7.66832354e-18j])"
      ]
     },
     "execution_count": 61,
     "metadata": {},
     "output_type": "execute_result"
    }
   ],
   "source": [
    "alpha = (3+1j)/(4*np.sqrt(2))\n",
    "beta = (np.sqrt(3)+np.sqrt(3)*1j)/(4*np.sqrt(2))\n",
    "gamma = (-1-3j)/(4*np.sqrt(2))\n",
    "\n",
    "\n",
    "\n",
    "B =       np.array(([alpha*np.conjugate(alpha),beta*np.conjugate(alpha),0,0],\n",
    "                    [alpha*np.conjugate(beta),beta*np.conjugate(beta),0,0],\n",
    "                    [0,0,beta*np.conjugate(beta),beta*np.conjugate(gamma)],\n",
    "                    [0,0,gamma*np.conjugate(beta),gamma*np.conjugate(gamma)]))\n",
    "\n",
    "np.linalg.eigvals(B)"
   ]
  },
  {
   "cell_type": "code",
   "execution_count": 62,
   "metadata": {},
   "outputs": [
    {
     "data": {
      "text/plain": [
       "(0.9999999999999998+0j)"
      ]
     },
     "execution_count": 62,
     "metadata": {},
     "output_type": "execute_result"
    }
   ],
   "source": [
    "alpha = (3+1j)/(4*np.sqrt(2))\n",
    "beta = (np.sqrt(3)+np.sqrt(3)*1j)/(4*np.sqrt(2))\n",
    "gamma = (-1-3j)/(4*np.sqrt(2))\n",
    "\n",
    "\n",
    "\n",
    "\n",
    "alpha*np.conjugate(alpha)+2*beta*np.conjugate(beta)+gamma*np.conjugate(gamma)"
   ]
  },
  {
   "cell_type": "code",
   "execution_count": 63,
   "metadata": {},
   "outputs": [
    {
     "name": "stdout",
     "output_type": "stream",
     "text": [
      "rhoAB =\n",
      " [[0.41666667 0.         0.         0.33333333]\n",
      " [0.         0.08333333 0.         0.        ]\n",
      " [0.         0.         0.08333333 0.        ]\n",
      " [0.33333333 0.         0.         0.41666667]]\n",
      "rhoB = \n",
      " [[0.5 0. ]\n",
      " [0.  0.5]]\n",
      "I(*)rhoB = \n",
      " [[0.5 0.  0.  0. ]\n",
      " [0.  0.5 0.  0. ]\n",
      " [0.  0.  0.5 0. ]\n",
      " [0.  0.  0.  0.5]]\n",
      "[0.91666667 0.25       0.91666667 0.91666667]\n"
     ]
    }
   ],
   "source": [
    "\n",
    "# cheking if H_dounarrow makes sense for Hmin at least on Bell states \n",
    "# yes\n",
    "\n",
    "ketrho = np.array([1,0,0,1])\n",
    "\n",
    "rhoAB = np.outer(ketrho,ketrho)\n",
    "\n",
    "rhoAB = rhoAB + 0.25*np.identity(4)\n",
    "\n",
    "rhoAB = rhoAB/np.trace(rhoAB)\n",
    "\n",
    "print(\"rhoAB =\\n\", rhoAB)\n",
    "rhoB = np_partial_trace(rhoAB,[2,2])\n",
    "rhoB = rhoB/np.trace(rhoB)\n",
    "print(\"rhoB = \\n\",rhoB)\n",
    "IrhoB = np.kron(np.identity(2),rhoB)\n",
    "Irhob = IrhoB/np.trace(IrhoB)\n",
    "#largest gamma that works is -1 as expected from Hmin on bell state\n",
    "gamma = -1   \n",
    "\n",
    "rhopo = 2**(-gamma)*IrhoB-rhoAB\n",
    "\n",
    "\n",
    "\n",
    "print(\"I(*)rhoB = \\n\",IrhoB)\n",
    "\n",
    "print(np.linalg.eigvals(rhopo))\n",
    "\n",
    "\n",
    "\n",
    "#np.linalg.eigvals(rhopo)>0\n"
   ]
  },
  {
   "cell_type": "code",
   "execution_count": 64,
   "metadata": {},
   "outputs": [
    {
     "data": {
      "text/plain": [
       "0.5849625007211562"
      ]
     },
     "execution_count": 64,
     "metadata": {},
     "output_type": "execute_result"
    }
   ],
   "source": [
    "np.log2(3/2)"
   ]
  },
  {
   "cell_type": "code",
   "execution_count": 65,
   "metadata": {},
   "outputs": [],
   "source": [
    "# a function to calculate H_min^dounarrow(A|B)\n",
    "# unoptimized min entropy (and the function is also not very efficient)\n",
    "\n",
    "def Hminmin(rhoAB,dimA,dimB):\n",
    "    RAB = rhoAB/np.trace(rhoAB)\n",
    "    n = dimA\n",
    "    m = dimB\n",
    "    RB = np_partial_trace(RAB,[n,m])\n",
    "    RB = RB/np.trace(RB)\n",
    "    IrhoB = np.kron(np.identity(n),RB)\n",
    "    Irhob = IrhoB/np.trace(IrhoB)\n",
    "    L = [gamma/1000 - 20 for gamma in range(200001)]\n",
    "    H = []\n",
    "    for gamma in L:\n",
    "        rhopo = (2**(-gamma))*IrhoB-RAB\n",
    "        if (np.linalg.eigvals(rhopo)>=0).all():\n",
    "            H = H + [gamma]\n",
    "    return(max(H))\n",
    "\n"
   ]
  },
  {
   "cell_type": "code",
   "execution_count": 66,
   "metadata": {},
   "outputs": [
    {
     "name": "stdout",
     "output_type": "stream",
     "text": [
      "Hmindown(A|B)= 0.0\n"
     ]
    }
   ],
   "source": [
    "# looking for counter example:\n",
    "n = 2\n",
    "m = 2\n",
    "ketrho1 = np.array([1,0,0,1])\n",
    "\n",
    "rho1 = np.outer(ketrho1,ketrho1)\n",
    "\n",
    "ketrho2 = np.array([0,1,0,0])\n",
    "\n",
    "rho2 = np.outer(ketrho2,ketrho2)\n",
    "\n",
    "ketrho3 = np.array([0,0,1,0])\n",
    "\n",
    "rho3 = np.outer(ketrho3,ketrho3)\n",
    "\n",
    "ketrho4 = np.array([0,0,0,0])\n",
    "\n",
    "rho4 = np.outer(ketrho4,ketrho4)\n",
    "\n",
    "\n",
    "\n",
    "rhoAB = rho1+rho2+rho3+rho4\n",
    "\n",
    "\n",
    "#rhoAB = rhoAB + np.identity(n*n)\n",
    "\n",
    "rhoAB = rhoAB/np.trace(rhoAB)\n",
    "\n",
    "print(\"Hmindown(A|B)=\",Hminmin(rhoAB,n,m))"
   ]
  },
  {
   "cell_type": "code",
   "execution_count": 67,
   "metadata": {},
   "outputs": [
    {
     "name": "stdout",
     "output_type": "stream",
     "text": [
      "Hmindown(A|B)_T= -0.3219999999999992\n",
      "(array([0.625, 0.125, 0.125, 0.125]), array([[ 0.        ,  0.        ,  1.        ,  0.        ],\n",
      "       [-0.70710678,  0.70710678,  0.        ,  0.        ],\n",
      "       [ 0.70710678,  0.70710678,  0.        ,  0.        ],\n",
      "       [ 0.        ,  0.        ,  0.        ,  1.        ]]))\n"
     ]
    }
   ],
   "source": [
    "p = 0.5\n",
    "T = np.array([ [1-p,0,0,0],\n",
    "                [0,1+p,-2*p,0],\n",
    "                [0,-2*p,1+p,0],\n",
    "                [0,0,0,1-p]])\n",
    "T = T/np.trace(T)\n",
    "print(\"Hmindown(A|B)_T=\",Hminmin(T,2,2))\n",
    "print(np.linalg.eig(T))"
   ]
  },
  {
   "cell_type": "code",
   "execution_count": 68,
   "metadata": {},
   "outputs": [
    {
     "name": "stdout",
     "output_type": "stream",
     "text": [
      "rhoA = \n",
      " [[0.5 0. ]\n",
      " [0.  0.5]] \n",
      " rhoB = \n",
      " [[0.5 0. ]\n",
      " [0.  0.5]]\n",
      "H0 >= 0.5849625007211562\n"
     ]
    }
   ],
   "source": [
    "rhoB = np_partial_trace(rhoAB,[n,m],axis=0)\n",
    "rhoA = np_partial_trace(rhoAB,[n,m],axis=1)\n",
    "rhoA = rhoA/np.trace(rhoA)\n",
    "print(\"rhoA = \\n\",rhoA,\"\\n rhoB = \\n\",rhoB)\n",
    "rhoB = rhoB/np.trace(rhoB)\n",
    "IrhoB = np.kron(np.identity(n),rhoB)\n",
    "Irhob = IrhoB/np.trace(IrhoB)\n",
    "\n",
    "ExpH = np.trace(np.matmul(rho1/2,IrhoB)+np.matmul(rho2,IrhoB)+np.matmul(rho3,IrhoB)+np.matmul(rho4,IrhoB))\n",
    "\n",
    "\n",
    "print(\"H0 >=\",np.log2(ExpH))"
   ]
  },
  {
   "cell_type": "code",
   "execution_count": 69,
   "metadata": {},
   "outputs": [
    {
     "name": "stdout",
     "output_type": "stream",
     "text": [
      "rhoA = \n",
      " [[0.5 0. ]\n",
      " [0.  0.5]] \n",
      " rhoB = \n",
      " [[0.5 0. ]\n",
      " [0.  0.5]]\n",
      "H0 >= 0.0\n"
     ]
    }
   ],
   "source": [
    "# H0 for Werner states?\n",
    "# need to write in form of projections:\n",
    "\n",
    "n = m = 2\n",
    "p = 0\n",
    "T = np.array([ [1-p,0,0,0],\n",
    "                [0,1+p,-2*p,0],\n",
    "                [0,-2*p,1+p,0],\n",
    "                [0,0,0,1-p]])\n",
    "TAB = T/np.trace(T)\n",
    "TB = np_partial_trace(TAB,[n,m],axis=0)\n",
    "TA = np_partial_trace(TAB,[n,m],axis=1)\n",
    "TA = TA/np.trace(TA)\n",
    "print(\"rhoA = \\n\",TA,\"\\n rhoB = \\n\",TA)\n",
    "TB = TB/np.trace(TB)\n",
    "ITB = np.kron(np.identity(n),TB)\n",
    "ITB = ITB/np.trace(ITB)\n",
    "\n",
    "\n",
    "\n",
    "\n",
    "print(\"H0 >=\",np.log2(np.trace(ITB)))"
   ]
  },
  {
   "cell_type": "code",
   "execution_count": 70,
   "metadata": {},
   "outputs": [
    {
     "name": "stdout",
     "output_type": "stream",
     "text": [
      "Hmindown(A|B)= 0.5839999999999996\n"
     ]
    }
   ],
   "source": [
    "\n",
    "\n",
    "\n",
    "n = 3\n",
    "m = 2\n",
    "ketrho1 = np.sqrt(2)*np.array([1,0,0,0,0,1])#,0,2,0,0,0,0,1,0,0,0,0,1])\n",
    "\n",
    "rho1 = np.outer(ketrho1,ketrho1)\n",
    "\n",
    "ketrho2 = np.array([0,1,1,0,0,0])\n",
    "\n",
    "rho2 = np.outer(ketrho2,ketrho2)\n",
    "\n",
    "ketrho3 = np.array([0,1,1,0,0,0])\n",
    "\n",
    "rho3 = np.outer(ketrho3,ketrho3)\n",
    "\n",
    "ketrho4 = np.array([0,0,0,1,1,0])\n",
    "\n",
    "rho4 = np.outer(ketrho4,ketrho4)\n",
    "\n",
    "ketrho5 = np.array([0,0,0,1,1,0])\n",
    "\n",
    "rho5 = np.outer(ketrho5,ketrho5)\n",
    "\n",
    "\n",
    "\n",
    "rhoAB = rho1+rho2+rho3+rho4+rho5\n",
    "\n",
    "#rhoAB = rhoAB + np.identity(n*n)\n",
    "\n",
    "rhoAB = rhoAB/np.trace(rhoAB)\n",
    "\n",
    "print(\"Hmindown(A|B)=\",Hminmin(rhoAB,n,m))"
   ]
  },
  {
   "cell_type": "code",
   "execution_count": 71,
   "metadata": {},
   "outputs": [
    {
     "name": "stdout",
     "output_type": "stream",
     "text": [
      "rhoA = \n",
      " [[0.33333333 0.         0.        ]\n",
      " [0.         0.33333333 0.        ]\n",
      " [0.         0.         0.33333333]] \n",
      " rhoB = \n",
      " [[0.5 0. ]\n",
      " [0.  0.5]]\n",
      "H0 > 1.4367517954398241\n"
     ]
    }
   ],
   "source": [
    "rhoB = np_partial_trace(rhoAB,[n,m],axis=0)\n",
    "rhoA = np_partial_trace(rhoAB,[n,m],axis=1)\n",
    "rhoA = rhoA/np.trace(rhoA)\n",
    "print(\"rhoA = \\n\",rhoA,\"\\n rhoB = \\n\",rhoB)\n",
    "rhoB = rhoB/np.trace(rhoB)\n",
    "IrhoB = np.kron(np.identity(n),rhoB)\n",
    "Irhob = IrhoB/np.trace(IrhoB)\n",
    "\n",
    "ExpH = np.trace(np.matmul(rho1/(2*np.sqrt(2)),IrhoB)+np.matmul(rho2/2,IrhoB)+np.matmul(rho3/2,IrhoB)+np.matmul(rho4/2,IrhoB)+np.matmul(rho5/2,IrhoB))\n",
    "\n",
    "print(\"H0 >\",np.log2(ExpH))\n"
   ]
  },
  {
   "cell_type": "code",
   "execution_count": 72,
   "metadata": {},
   "outputs": [
    {
     "data": {
      "text/plain": [
       "-1.5851067774392014"
      ]
     },
     "execution_count": 72,
     "metadata": {},
     "output_type": "execute_result"
    }
   ],
   "source": [
    "np.log2(0.3333)"
   ]
  },
  {
   "cell_type": "code",
   "execution_count": 73,
   "metadata": {},
   "outputs": [
    {
     "ename": "ValueError",
     "evalue": "cannot reshape array of size 36 into shape (2,2,2,2)",
     "output_type": "error",
     "traceback": [
      "\u001b[1;31m---------------------------------------------------------------------------\u001b[0m",
      "\u001b[1;31mValueError\u001b[0m                                Traceback (most recent call last)",
      "\u001b[1;32m~\\AppData\\Local\\Temp/ipykernel_24052/2962323739.py\u001b[0m in \u001b[0;36m<module>\u001b[1;34m\u001b[0m\n\u001b[0;32m      2\u001b[0m \u001b[0mn\u001b[0m \u001b[1;33m=\u001b[0m \u001b[1;36m2\u001b[0m\u001b[1;33m\u001b[0m\u001b[1;33m\u001b[0m\u001b[0m\n\u001b[0;32m      3\u001b[0m \u001b[0mm\u001b[0m \u001b[1;33m=\u001b[0m \u001b[1;36m2\u001b[0m\u001b[1;33m\u001b[0m\u001b[1;33m\u001b[0m\u001b[0m\n\u001b[1;32m----> 4\u001b[1;33m \u001b[0mrhoB\u001b[0m \u001b[1;33m=\u001b[0m \u001b[0mnp_partial_trace\u001b[0m\u001b[1;33m(\u001b[0m\u001b[0mrhoAB\u001b[0m\u001b[1;33m,\u001b[0m\u001b[1;33m[\u001b[0m\u001b[0mn\u001b[0m\u001b[1;33m,\u001b[0m\u001b[0mm\u001b[0m\u001b[1;33m]\u001b[0m\u001b[1;33m,\u001b[0m\u001b[0maxis\u001b[0m\u001b[1;33m=\u001b[0m\u001b[1;36m0\u001b[0m\u001b[1;33m)\u001b[0m\u001b[1;33m\u001b[0m\u001b[1;33m\u001b[0m\u001b[0m\n\u001b[0m\u001b[0;32m      5\u001b[0m \u001b[0mrhoA\u001b[0m \u001b[1;33m=\u001b[0m \u001b[0mnp_partial_trace\u001b[0m\u001b[1;33m(\u001b[0m\u001b[0mrhoAB\u001b[0m\u001b[1;33m,\u001b[0m\u001b[1;33m[\u001b[0m\u001b[0mn\u001b[0m\u001b[1;33m,\u001b[0m\u001b[0mm\u001b[0m\u001b[1;33m]\u001b[0m\u001b[1;33m,\u001b[0m\u001b[0maxis\u001b[0m\u001b[1;33m=\u001b[0m\u001b[1;36m1\u001b[0m\u001b[1;33m)\u001b[0m\u001b[1;33m\u001b[0m\u001b[1;33m\u001b[0m\u001b[0m\n\u001b[0;32m      6\u001b[0m \u001b[0mrhoA\u001b[0m \u001b[1;33m=\u001b[0m \u001b[0mrhoA\u001b[0m\u001b[1;33m/\u001b[0m\u001b[0mnp\u001b[0m\u001b[1;33m.\u001b[0m\u001b[0mtrace\u001b[0m\u001b[1;33m(\u001b[0m\u001b[0mrhoA\u001b[0m\u001b[1;33m)\u001b[0m\u001b[1;33m\u001b[0m\u001b[1;33m\u001b[0m\u001b[0m\n",
      "\u001b[1;32m~\\AppData\\Local\\Temp/ipykernel_24052/761549911.py\u001b[0m in \u001b[0;36mnp_partial_trace\u001b[1;34m(rho, dims, axis)\u001b[0m\n\u001b[0;32m     33\u001b[0m     \u001b[1;31m# [dim_0, dim_1, ..., dim_n, dim_0, dim_1, ..., dim_n]\u001b[0m\u001b[1;33m\u001b[0m\u001b[1;33m\u001b[0m\u001b[1;33m\u001b[0m\u001b[0m\n\u001b[0;32m     34\u001b[0m     \u001b[1;31m# Each subsystem gets one index for its row and another one for its column\u001b[0m\u001b[1;33m\u001b[0m\u001b[1;33m\u001b[0m\u001b[1;33m\u001b[0m\u001b[0m\n\u001b[1;32m---> 35\u001b[1;33m     \u001b[0mreshaped_rho\u001b[0m \u001b[1;33m=\u001b[0m \u001b[0mnp\u001b[0m\u001b[1;33m.\u001b[0m\u001b[0mreshape\u001b[0m\u001b[1;33m(\u001b[0m\u001b[0mrho\u001b[0m\u001b[1;33m,\u001b[0m \u001b[0mnp\u001b[0m\u001b[1;33m.\u001b[0m\u001b[0mconcatenate\u001b[0m\u001b[1;33m(\u001b[0m\u001b[1;33m(\u001b[0m\u001b[0mdims_\u001b[0m\u001b[1;33m,\u001b[0m \u001b[0mdims_\u001b[0m\u001b[1;33m)\u001b[0m\u001b[1;33m,\u001b[0m \u001b[0maxis\u001b[0m\u001b[1;33m=\u001b[0m\u001b[1;32mNone\u001b[0m\u001b[1;33m)\u001b[0m\u001b[1;33m)\u001b[0m\u001b[1;33m\u001b[0m\u001b[1;33m\u001b[0m\u001b[0m\n\u001b[0m\u001b[0;32m     36\u001b[0m \u001b[1;33m\u001b[0m\u001b[0m\n\u001b[0;32m     37\u001b[0m     \u001b[1;31m# Move the subsystems to be traced towards the end\u001b[0m\u001b[1;33m\u001b[0m\u001b[1;33m\u001b[0m\u001b[1;33m\u001b[0m\u001b[0m\n",
      "\u001b[1;32m<__array_function__ internals>\u001b[0m in \u001b[0;36mreshape\u001b[1;34m(*args, **kwargs)\u001b[0m\n",
      "\u001b[1;32mc:\\Users\\bgomi\\anaconda3\\lib\\site-packages\\numpy\\core\\fromnumeric.py\u001b[0m in \u001b[0;36mreshape\u001b[1;34m(a, newshape, order)\u001b[0m\n\u001b[0;32m    296\u001b[0m            [5, 6]])\n\u001b[0;32m    297\u001b[0m     \"\"\"\n\u001b[1;32m--> 298\u001b[1;33m     \u001b[1;32mreturn\u001b[0m \u001b[0m_wrapfunc\u001b[0m\u001b[1;33m(\u001b[0m\u001b[0ma\u001b[0m\u001b[1;33m,\u001b[0m \u001b[1;34m'reshape'\u001b[0m\u001b[1;33m,\u001b[0m \u001b[0mnewshape\u001b[0m\u001b[1;33m,\u001b[0m \u001b[0morder\u001b[0m\u001b[1;33m=\u001b[0m\u001b[0morder\u001b[0m\u001b[1;33m)\u001b[0m\u001b[1;33m\u001b[0m\u001b[1;33m\u001b[0m\u001b[0m\n\u001b[0m\u001b[0;32m    299\u001b[0m \u001b[1;33m\u001b[0m\u001b[0m\n\u001b[0;32m    300\u001b[0m \u001b[1;33m\u001b[0m\u001b[0m\n",
      "\u001b[1;32mc:\\Users\\bgomi\\anaconda3\\lib\\site-packages\\numpy\\core\\fromnumeric.py\u001b[0m in \u001b[0;36m_wrapfunc\u001b[1;34m(obj, method, *args, **kwds)\u001b[0m\n\u001b[0;32m     55\u001b[0m \u001b[1;33m\u001b[0m\u001b[0m\n\u001b[0;32m     56\u001b[0m     \u001b[1;32mtry\u001b[0m\u001b[1;33m:\u001b[0m\u001b[1;33m\u001b[0m\u001b[1;33m\u001b[0m\u001b[0m\n\u001b[1;32m---> 57\u001b[1;33m         \u001b[1;32mreturn\u001b[0m \u001b[0mbound\u001b[0m\u001b[1;33m(\u001b[0m\u001b[1;33m*\u001b[0m\u001b[0margs\u001b[0m\u001b[1;33m,\u001b[0m \u001b[1;33m**\u001b[0m\u001b[0mkwds\u001b[0m\u001b[1;33m)\u001b[0m\u001b[1;33m\u001b[0m\u001b[1;33m\u001b[0m\u001b[0m\n\u001b[0m\u001b[0;32m     58\u001b[0m     \u001b[1;32mexcept\u001b[0m \u001b[0mTypeError\u001b[0m\u001b[1;33m:\u001b[0m\u001b[1;33m\u001b[0m\u001b[1;33m\u001b[0m\u001b[0m\n\u001b[0;32m     59\u001b[0m         \u001b[1;31m# A TypeError occurs if the object does have such a method in its\u001b[0m\u001b[1;33m\u001b[0m\u001b[1;33m\u001b[0m\u001b[1;33m\u001b[0m\u001b[0m\n",
      "\u001b[1;31mValueError\u001b[0m: cannot reshape array of size 36 into shape (2,2,2,2)"
     ]
    }
   ],
   "source": [
    "#Checking if H0downarrow makes sense:\n",
    "n = 2\n",
    "m = 2\n",
    "rhoB = np_partial_trace(rhoAB,[n,m],axis=0)\n",
    "rhoA = np_partial_trace(rhoAB,[n,m],axis=1)\n",
    "rhoA = rhoA/np.trace(rhoA)\n",
    "print(\"rhoA = \\n\",rhoA,\"\\n rhoB = \\n\",rhoB)\n",
    "rhoB = rhoB/np.trace(rhoB)\n",
    "IrhoB = np.kron(np.identity(n),rhoB)\n",
    "Irhob = IrhoB/np.trace(IrhoB)\n",
    "print(\"IrhoB = \\n\", IrhoB)\n",
    "rhop = np.matmul(rhoAB,IrhoB)\n",
    "print(\"rhoAB*IrhoB = \\n\",rhop)\n",
    "print(\"H0(A|B) = \",np.log2(np.trace(T)))\n",
    "print(np.linalg.eigvals(rhoAB))"
   ]
  },
  {
   "cell_type": "code",
   "execution_count": null,
   "metadata": {},
   "outputs": [
    {
     "data": {
      "text/plain": [
       "2.807354922057604"
      ]
     },
     "execution_count": 32,
     "metadata": {},
     "output_type": "execute_result"
    }
   ],
   "source": []
  },
  {
   "cell_type": "code",
   "execution_count": null,
   "metadata": {},
   "outputs": [],
   "source": [
    "np.matmul(rhoAB,rhoAB),rhoAB"
   ]
  },
  {
   "cell_type": "code",
   "execution_count": 77,
   "metadata": {},
   "outputs": [
    {
     "name": "stdout",
     "output_type": "stream",
     "text": [
      "rho_AB test correct?  True\n",
      "rho_AC test correct?  True\n",
      "rho_A test correct?  True\n",
      "rho_B test correct?  True\n",
      "rho_C test correct?  True\n"
     ]
    },
    {
     "data": {
      "text/plain": [
       "Variable((24, 24), complex=True)"
      ]
     },
     "execution_count": 77,
     "metadata": {},
     "output_type": "execute_result"
    }
   ],
   "source": [
    "# implament partial trace for min Hmax\n",
    "def expr_as_np_array(cvx_expr):\n",
    "    if cvx_expr.is_scalar():\n",
    "        return np.array(cvx_expr)\n",
    "    elif len(cvx_expr.shape) == 1:\n",
    "        return np.array([v for v in cvx_expr])\n",
    "    else:\n",
    "        # then cvx_expr is a 2d array\n",
    "        rows = []\n",
    "        for i in range(cvx_expr.shape[0]):\n",
    "            row = [cvx_expr[i,j] for j in range(cvx_expr.shape[1])]\n",
    "            rows.append(row)\n",
    "        arr = np.array(rows)\n",
    "        return arr\n",
    "\n",
    "\n",
    "def np_array_as_expr(np_arr):\n",
    "    aslist = np_arr.tolist()\n",
    "    expr = cp.bmat(aslist)\n",
    "    return expr\n",
    "\n",
    "\n",
    "def np_partial_trace(rho, dims, axis=0):\n",
    "    \"\"\"\n",
    "    Takes partial trace over the subsystem defined by 'axis'\n",
    "    rho: a matrix\n",
    "    dims: a list containing the dimension of each subsystem\n",
    "    axis: the index of the subsytem to be traced out\n",
    "    (We assume that each subsystem is square)\n",
    "    \"\"\"\n",
    "    dims_ = np.array(dims)\n",
    "    # Reshape the matrix into a tensor with the following shape:\n",
    "    # [dim_0, dim_1, ..., dim_n, dim_0, dim_1, ..., dim_n]\n",
    "    # Each subsystem gets one index for its row and another one for its column\n",
    "    reshaped_rho = np.reshape(rho, np.concatenate((dims_, dims_), axis=None))\n",
    "\n",
    "    # Move the subsystems to be traced towards the end\n",
    "    reshaped_rho = np.moveaxis(reshaped_rho, axis, -1)\n",
    "    reshaped_rho = np.moveaxis(reshaped_rho, len(dims)+axis-1, -1)\n",
    "\n",
    "    # Trace over the very last row and column indices\n",
    "    traced_out_rho = np.trace(reshaped_rho, axis1=-2, axis2=-1)\n",
    "\n",
    "    # traced_out_rho is still in the shape of a tensor\n",
    "    # Reshape back to a matrix\n",
    "    dims_untraced = np.delete(dims_, axis)\n",
    "    rho_dim = np.prod(dims_untraced)\n",
    "    return traced_out_rho.reshape([rho_dim, rho_dim])\n",
    "\n",
    "\n",
    "def partial_trace(rho, dims, axis=0):\n",
    "    if not isinstance(rho, Expression):\n",
    "        rho = cp.Constant(shape=rho.shape, value=rho)\n",
    "    rho_np = expr_as_np_array(rho)\n",
    "    traced_rho = np_partial_trace(rho_np, dims, axis)\n",
    "    traced_rho = np_array_as_expr(traced_rho)\n",
    "    return traced_rho\n",
    "\n",
    "\n",
    "\n",
    "\"\"\"\n",
    "Test out the partial_trace numpy module by creating a matrix\n",
    "rho_ABC = rho_A \\otimes rho_B \\otimes rho_C\n",
    "Each rho_i is normalized, i.e. Tr(rho_i) = 1\n",
    "\"\"\"\n",
    "\n",
    "# Generate five test cases\n",
    "rho_A = np.random.rand(4, 4) + 1j*np.random.rand(4, 4)\n",
    "rho_A /= np.trace(rho_A)\n",
    "rho_B = np.random.rand(3, 3) + 1j*np.random.rand(3, 3)\n",
    "rho_B /= np.trace(rho_B)\n",
    "rho_C = np.random.rand(2, 2) + 1j*np.random.rand(2, 2)\n",
    "rho_C /= np.trace(rho_C)\n",
    "rho_AB = np.kron(rho_A, rho_B)\n",
    "rho_AC = np.kron(rho_A, rho_C)\n",
    "\n",
    "# Construct a cvxpy Variable with value equal to rho_A \\otimes rho_B \\otimes rho_C.\n",
    "temp = np.kron(rho_AB, rho_C)\n",
    "rho_ABC = cp.Variable(shape=temp.shape, complex=True)\n",
    "rho_ABC.value = temp\n",
    "\n",
    "# Try to recover simpler tensors products by taking partial traces of\n",
    "# more complicated tensors.\n",
    "rho_AB_test = partial_trace(rho_ABC, [4, 3, 2], axis=2)\n",
    "rho_AC_test = partial_trace(rho_ABC, [4, 3, 2], axis=1)\n",
    "rho_A_test = partial_trace(rho_AB_test, [4, 3], axis=1)\n",
    "rho_B_test = partial_trace(rho_AB_test, [4, 3], axis=0)\n",
    "rho_C_test = partial_trace(rho_AC_test, [4, 2], axis=0)\n",
    "\n",
    "# See if the outputs of partial_trace are correct\n",
    "print(\"rho_AB test correct? \", np.allclose(rho_AB_test.value, rho_AB))\n",
    "print(\"rho_AC test correct? \", np.allclose(rho_AC_test.value, rho_AC))\n",
    "print(\"rho_A test correct? \", np.allclose(rho_A_test.value, rho_A))\n",
    "print(\"rho_B test correct? \", np.allclose(rho_B_test.value, rho_B))\n",
    "print(\"rho_C test correct? \", np.allclose(rho_C_test.value, rho_C))\n"
   ]
  },
  {
   "cell_type": "code",
   "execution_count": null,
   "metadata": {},
   "outputs": [],
   "source": [
    "# Hmax(A|B) primal\n",
    "\n",
    "def Hmax_minB(rhoA, dimB):\n",
    "    n = rhoA.shape[0]\n",
    "    m = dimB\n",
    "    A = cp.Parameter((n,n))\n",
    "    A.value = rhoA\n",
    "    B = cp.Variable((m,m))\n",
    "    AB = cp.kron(A,B)#/cp.trace(cp.kron(A,B))\n",
    "    Y11 = cp.Variable((n*m,n*m),pos=True)\n",
    "    Y22 = cp.Variable((n*m,n*m),pos=True) \n",
    "    Y12 = cp.Variable((n*m,n*m))\n",
    "    Y21 = cp.Variable((n*m,n*m)) \n",
    "    I = np.identity(n)\n",
    "\n",
    "    I11 = np.matrix([[1,0],[0,0]])\n",
    "    I12 = np.matrix([[0,1],[0,0]])\n",
    "    I21 = np.matrix([[0,0],[1,0]])\n",
    "    I22 = np.matrix([[0,0],[0,1]])\n",
    "    YAB = cp.kron(I11,Y11)+cp.kron(I22,Y22)+cp.kron(I12,Y12)+cp.kron(I21,Y21)\n",
    "    II = np.identity(n*m)\n",
    "\n",
    "    constraints = []\n",
    "    constraints += [cp.kron(I11,Y11)+cp.kron(I22,Y22) >> 0.5*(cp.kron(I12,II)+cp.kron(I21,II))] \n",
    "    constraints += [gamma >= 0] \n",
    "    constraints += [cp.trace(AB) <= 1] \n",
    "    constraints += [gamma*I >> partial_trace(Y22,[n,m],axis = 1)] #should be gamma*I_B >> partial_trace_{A}(Y22)\n",
    "    prob = cp.Problem(cp.Minimize(cp.trace(AB*(Y11))+gamma),      \n",
    "                    constraints)\n",
    "    prob.solve()\n",
    "    return(2*np.log2(prob.value))\n"
   ]
  },
  {
   "cell_type": "code",
   "execution_count": null,
   "metadata": {},
   "outputs": [],
   "source": [
    "\n"
   ]
  },
  {
   "cell_type": "code",
   "execution_count": null,
   "metadata": {},
   "outputs": [],
   "source": [
    "rb = np.array([ [1,0],\n",
    "                [0,2]])\n",
    "\n",
    "np.kron(np.identity(2),rb)"
   ]
  },
  {
   "cell_type": "code",
   "execution_count": null,
   "metadata": {},
   "outputs": [],
   "source": []
  }
 ],
 "metadata": {
  "kernelspec": {
   "display_name": "Python 3.7.11 ('base')",
   "language": "python",
   "name": "python3"
  },
  "language_info": {
   "codemirror_mode": {
    "name": "ipython",
    "version": 3
   },
   "file_extension": ".py",
   "mimetype": "text/x-python",
   "name": "python",
   "nbconvert_exporter": "python",
   "pygments_lexer": "ipython3",
   "version": "3.7.11"
  },
  "orig_nbformat": 4,
  "vscode": {
   "interpreter": {
    "hash": "41d5355922c35b080e1be7aeec46c36d96a0ff56d8da23f4866766f88be44aa7"
   }
  }
 },
 "nbformat": 4,
 "nbformat_minor": 2
}
