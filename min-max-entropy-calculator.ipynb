{
 "cells": [
  {
   "cell_type": "code",
   "execution_count": 1,
   "metadata": {},
   "outputs": [
    {
     "name": "stdout",
     "output_type": "stream",
     "text": [
      "Collecting package metadata (current_repodata.json): done\n",
      "Solving environment: done\n",
      "\n",
      "## Package Plan ##\n",
      "\n",
      "  environment location: /Users/noamavidan/opt/anaconda3\n",
      "\n",
      "  added / updated specs:\n",
      "    - pytest\n",
      "\n",
      "\n",
      "The following packages will be SUPERSEDED by a higher-priority channel:\n",
      "\n",
      "  conda              conda-forge::conda-4.11.0-py38h50d173~ --> pkgs/main::conda-4.11.0-py38hecd8cb5_0\n",
      "\n",
      "\n",
      "Preparing transaction: done\n",
      "Verifying transaction: done\n",
      "Executing transaction: done\n",
      "Collecting package metadata (current_repodata.json): done\n",
      "Solving environment: done\n",
      "\n",
      "## Package Plan ##\n",
      "\n",
      "  environment location: /Users/noamavidan/opt/anaconda3\n",
      "\n",
      "  added / updated specs:\n",
      "    - cvxpy\n",
      "\n",
      "\n",
      "The following packages will be SUPERSEDED by a higher-priority channel:\n",
      "\n",
      "  conda              pkgs/main::conda-4.11.0-py38hecd8cb5_0 --> conda-forge::conda-4.11.0-py38h50d1736_0\n",
      "\n",
      "\n",
      "Preparing transaction: done\n",
      "Verifying transaction: done\n",
      "Executing transaction: done\n",
      "Requirement already satisfied: cvxopt in /Users/noamavidan/opt/anaconda3/lib/python3.8/site-packages (1.2.7)\n"
     ]
    }
   ],
   "source": [
    "# Install SDP solver and dependencies, slow in first run should be quicker after (a few minutes)\n",
    "import sys\n",
    "\n",
    "!conda install --yes --prefix {sys.prefix} pytest\n",
    "\n",
    "!conda install -c conda-forge --yes cvxpy\n",
    "\n",
    "\n",
    "!pip install cvxopt\n"
   ]
  },
  {
   "cell_type": "code",
   "execution_count": 2,
   "metadata": {},
   "outputs": [],
   "source": [
    "# Import packages\n",
    "import cvxpy as cp\n",
    "import numpy as np\n",
    "import cvxopt\n",
    "from cvxpy.expressions.expression import Expression\n"
   ]
  },
  {
   "cell_type": "code",
   "execution_count": 3,
   "metadata": {},
   "outputs": [
    {
     "name": "stdout",
     "output_type": "stream",
     "text": [
      "rho_AB test correct?  True\n",
      "rho_AC test correct?  True\n",
      "rho_A test correct?  True\n",
      "rho_B test correct?  True\n",
      "rho_C test correct?  True\n"
     ]
    }
   ],
   "source": [
    "# implament partial trace for min Hmax\n",
    "def expr_as_np_array(cvx_expr):\n",
    "    if cvx_expr.is_scalar():\n",
    "        return np.array(cvx_expr)\n",
    "    elif len(cvx_expr.shape) == 1:\n",
    "        return np.array([v for v in cvx_expr])\n",
    "    else:\n",
    "        # then cvx_expr is a 2d array\n",
    "        rows = []\n",
    "        for i in range(cvx_expr.shape[0]):\n",
    "            row = [cvx_expr[i,j] for j in range(cvx_expr.shape[1])]\n",
    "            rows.append(row)\n",
    "        arr = np.array(rows)\n",
    "        return arr\n",
    "\n",
    "\n",
    "def np_array_as_expr(np_arr):\n",
    "    aslist = np_arr.tolist()\n",
    "    expr = cp.bmat(aslist)\n",
    "    return expr\n",
    "\n",
    "\n",
    "def np_partial_trace(rho, dims, axis=0):\n",
    "    \"\"\"\n",
    "    Takes partial trace over the subsystem defined by 'axis'\n",
    "    rho: a matrix\n",
    "    dims: a list containing the dimension of each subsystem\n",
    "    axis: the index of the subsytem to be traced out\n",
    "    (We assume that each subsystem is square)\n",
    "    \"\"\"\n",
    "    dims_ = np.array(dims)\n",
    "    # Reshape the matrix into a tensor with the following shape:\n",
    "    # [dim_0, dim_1, ..., dim_n, dim_0, dim_1, ..., dim_n]\n",
    "    # Each subsystem gets one index for its row and another one for its column\n",
    "    reshaped_rho = np.reshape(rho, np.concatenate((dims_, dims_), axis=None))\n",
    "\n",
    "    # Move the subsystems to be traced towards the end\n",
    "    reshaped_rho = np.moveaxis(reshaped_rho, axis, -1)\n",
    "    reshaped_rho = np.moveaxis(reshaped_rho, len(dims)+axis-1, -1)\n",
    "\n",
    "    # Trace over the very last row and column indices\n",
    "    traced_out_rho = np.trace(reshaped_rho, axis1=-2, axis2=-1)\n",
    "\n",
    "    # traced_out_rho is still in the shape of a tensor\n",
    "    # Reshape back to a matrix\n",
    "    dims_untraced = np.delete(dims_, axis)\n",
    "    rho_dim = np.prod(dims_untraced)\n",
    "    return traced_out_rho.reshape([rho_dim, rho_dim])\n",
    "\n",
    "\n",
    "def partial_trace(rho, dims, axis=0):\n",
    "    if not isinstance(rho, Expression):\n",
    "        rho = cp.Constant(shape=rho.shape, value=rho)\n",
    "    rho_np = expr_as_np_array(rho)\n",
    "    traced_rho = np_partial_trace(rho_np, dims, axis)\n",
    "    traced_rho = np_array_as_expr(traced_rho)\n",
    "    return traced_rho\n",
    "\n",
    "\n",
    "\n",
    "\"\"\"\n",
    "Test out the partial_trace numpy module by creating a matrix\n",
    "rho_ABC = rho_A \\otimes rho_B \\otimes rho_C\n",
    "Each rho_i is normalized, i.e. Tr(rho_i) = 1\n",
    "\"\"\"\n",
    "\n",
    "# Generate five test cases\n",
    "rho_A = np.random.rand(4, 4) + 1j*np.random.rand(4, 4)\n",
    "rho_A /= np.trace(rho_A)\n",
    "rho_B = np.random.rand(3, 3) + 1j*np.random.rand(3, 3)\n",
    "rho_B /= np.trace(rho_B)\n",
    "rho_C = np.random.rand(2, 2) + 1j*np.random.rand(2, 2)\n",
    "rho_C /= np.trace(rho_C)\n",
    "rho_AB = np.kron(rho_A, rho_B)\n",
    "rho_AC = np.kron(rho_A, rho_C)\n",
    "\n",
    "# Construct a cvxpy Variable with value equal to rho_A \\otimes rho_B \\otimes rho_C.\n",
    "temp = np.kron(rho_AB, rho_C)\n",
    "rho_ABC = cp.Variable(shape=temp.shape, complex=True)\n",
    "rho_ABC.value = temp\n",
    "\n",
    "# Try to recover simpler tensors products by taking partial traces of\n",
    "# more complicated tensors.\n",
    "rho_AB_test = partial_trace(rho_ABC, [4, 3, 2], axis=2)\n",
    "rho_AC_test = partial_trace(rho_ABC, [4, 3, 2], axis=1)\n",
    "rho_A_test = partial_trace(rho_AB_test, [4, 3], axis=1)\n",
    "rho_B_test = partial_trace(rho_AB_test, [4, 3], axis=0)\n",
    "rho_C_test = partial_trace(rho_AC_test, [4, 2], axis=0)\n",
    "\n",
    "# See if the outputs of partial_trace are correct\n",
    "print(\"rho_AB test correct? \", np.allclose(rho_AB_test.value, rho_AB))\n",
    "print(\"rho_AC test correct? \", np.allclose(rho_AC_test.value, rho_AC))\n",
    "print(\"rho_A test correct? \", np.allclose(rho_A_test.value, rho_A))\n",
    "print(\"rho_B test correct? \", np.allclose(rho_B_test.value, rho_B))\n",
    "print(\"rho_C test correct? \", np.allclose(rho_C_test.value, rho_C))"
   ]
  },
  {
   "cell_type": "code",
   "execution_count": 4,
   "metadata": {},
   "outputs": [],
   "source": [
    "def Hmin2(A,B):\n",
    "    \"\"\"takes rhoA, rhoB numpy arays and returns H_min(A|B)_rho\"\"\"\n",
    "    rhoA = np.asmatrix(A)\n",
    "    rhoB = np.asmatrix(B)\n",
    "    if (rhoA.getH() == rhoA).all() & (rhoB.getH() == rhoB).all():\n",
    "        n = rhoA.shape[0]\n",
    "        m = rhoB.shape[0]\n",
    "        IA = np.identity(n)\n",
    "        IB = np.identity(m)\n",
    "        A = cp.Parameter((n,n))\n",
    "        B = cp.Parameter((m,m))\n",
    "        A.value = rhoA/np.trace(rhoA)\n",
    "        B.value = rhoB/np.trace(rhoB)\n",
    "\n",
    "        AB = cp.kron(A,B)/cp.trace(cp.kron(A,B))\n",
    "\n",
    "\n",
    "        # Calculate exp(-H_min(A|B))\n",
    "        # Define and solve the CVXPY problem.\n",
    "        # Create a hermitian matrix variable.\n",
    "        XB = cp.Variable((m,m),pos=True) \n",
    "        # The operator >> denotes matrix inequality.\n",
    "        constraints = []\n",
    "        constraints += [cp.kron(IA,XB) >> AB]\n",
    "\n",
    "        prob = cp.Problem(cp.Minimize(cp.trace(XB)),      \n",
    "                          constraints)\n",
    "        prob.solve()\n",
    "        return(-np.log2(prob.value))\n",
    "    else:\n",
    "        print(\"rhoA and rhoB must be square and of the same dim\")"
   ]
  },
  {
   "cell_type": "code",
   "execution_count": 5,
   "metadata": {},
   "outputs": [],
   "source": [
    "def Hmin(rhoAB,dimA,dimB):\n",
    "    \"\"\"takes rhoAB, numpy array and dimA,dimB and returns H_min(A|B)_rho (rhoAB can be non-normal. it is normalized in th function)\"\"\"\n",
    "    if dimA*dimB != rhoAB.shape[0]:\n",
    "        return(\"dimA*dimB != shape(rhoAB)\")\n",
    "    if np.any(np.linalg.eigvals(rhoAB) < 0):\n",
    "        return(\"rhoAB is not positive semi-definite, min iegenvalue = \",min(np.linalg.eigvals(rhoAB)))\n",
    "    n = dimA\n",
    "    m = dimB\n",
    "    AB = cp.Parameter((n*m,n*m))\n",
    "    AB.value = rhoAB/np.trace(rhoAB)\n",
    "    IA = np.identity(n)\n",
    "    XB = cp.Variable((m,m)) \n",
    "    constraints = []\n",
    "    constraints += [cp.kron(IA,XB) >> AB]\n",
    "    constraints += [XB >> 0]\n",
    "    prob = cp.Problem(cp.Minimize(cp.trace(XB)),      \n",
    "                        constraints)\n",
    "    prob.solve()\n",
    "    return(-np.log2(prob.value))"
   ]
  },
  {
   "cell_type": "code",
   "execution_count": 6,
   "metadata": {},
   "outputs": [],
   "source": [
    "def Hmax(rhoAB,dimA,dimB):\n",
    "    \"\"\"takes rhoAB, numpy array and dimA,dimB and returns H_max(A|B)_rho (rhoAB can be non-normal. it is normalized in th function)\"\"\"\n",
    "    if dimA*dimB != rhoAB.shape[0]:\n",
    "        print(\"dimA*dimB != shape(rhoAB)\")\n",
    "    if np.any(np.linalg.eigvals(rhoAB) < 0):\n",
    "        print(\"rhoAB is not positive semi-definite, min iegenvalue = \",min(np.linalg.eigvals(rhoAB)))\n",
    "    n = dimA\n",
    "    m = dimB\n",
    "    AB = cp.Parameter((n*m,n*m))\n",
    "    AB.value = rhoAB/np.trace(rhoAB)\n",
    "    IA = np.identity(n)\n",
    "    X11 = cp.Variable((n*m,n*m))\n",
    "    X22 = cp.Variable((n*m,n*m)) \n",
    "    X12 = cp.Variable((n*m,n*m))\n",
    "    X21 = cp.Variable((n*m,n*m))\n",
    "    SigB = cp.Variable((m,m))     \n",
    "    I11 = np.array([[1,0],[0,0]])\n",
    "    I12 = np.array([[0,1],[0,0]])\n",
    "    I21 = np.array([[0,0],[1,0]])\n",
    "    I22 = np.array([[0,0],[0,1]])\n",
    "    XAB = cp.kron(I11,X11)+cp.kron(I22,X22)+cp.kron(I12,X12)+cp.kron(I21,X21)\n",
    "\n",
    "    constraints = []\n",
    "    constraints += [X11<<AB]\n",
    "    constraints += [X22<<cp.kron(IA,SigB)]\n",
    "    constraints += [cp.trace(SigB)<=1]\n",
    "    constraints += [XAB>>0]\n",
    "    constraints += [SigB>>0]\n",
    "    \n",
    "    prob = cp.Problem(cp.Maximize(0.5*(cp.trace(X12)+cp.trace(X21))),      \n",
    "                        constraints)\n",
    "    prob.solve()\n",
    "    #print(prob.value,XAB.value)\n",
    "    return(2*np.log2(prob.value))\n"
   ]
  },
  {
   "cell_type": "code",
   "execution_count": 7,
   "metadata": {},
   "outputs": [
    {
     "data": {
      "text/plain": [
       "array([[1, 0, 0, 1],\n",
       "       [0, 0, 0, 0],\n",
       "       [0, 0, 0, 0],\n",
       "       [1, 0, 0, 1]])"
      ]
     },
     "execution_count": 7,
     "metadata": {},
     "output_type": "execute_result"
    }
   ],
   "source": [
    "rho = np.array([1,0,0,1])\n",
    "\n",
    "rhoAB = np.outer(rho,rho)\n",
    "rhoAB"
   ]
  },
  {
   "cell_type": "markdown",
   "metadata": {},
   "source": [
    "# Testing rhoAB's"
   ]
  },
  {
   "cell_type": "markdown",
   "metadata": {},
   "source": [
    "We want to look at what the projections turn out to be if we let bob measure, get q-c state, \n",
    "and then what projections Alice actually does for the binning. \n",
    "Look specifically at the pure state pi = |00>-|11>, and on it plus some (diagonal) noise."
   ]
  },
  {
   "cell_type": "code",
   "execution_count": 27,
   "metadata": {},
   "outputs": [
    {
     "name": "stdout",
     "output_type": "stream",
     "text": [
      "rhoAB=\n",
      " [[1 0 0 1]\n",
      " [0 0 0 0]\n",
      " [0 0 0 0]\n",
      " [1 0 0 1]]\n",
      "Hmin= -0.9999999996171829 Hmax= -0.9994528044164699 dif =  0.0005471952007130021 upper bound of dif is 2log(d_a)= 2.0\n"
     ]
    }
   ],
   "source": [
    "#defined directly\n",
    "\n",
    "#example of a state (|phi> = |00>-|11>, rhoAB = |phi><phi|)\n",
    "\n",
    "ketrho = np.array([1,0,0,1])\n",
    "\n",
    "rhoAB = np.outer(ketrho,ketrho)\n",
    "\n",
    "\n",
    "#apply Hadamard transform on it\n",
    "H2 = np.array(([1,1,1,1],\n",
    "               [1,-1,1,-1],\n",
    "               [1,1,-1,-1],\n",
    "               [1,-1,-1,1]))\n",
    "\n",
    "\n",
    "\n",
    "#rhoAB = np.matmul(np.transpose(H2),np.matmul(rhoAB,H2))\n",
    "\n",
    "print(\"rhoAB=\\n\",rhoAB)\n",
    "dimA = int(np.sqrt(rhoAB.shape[0]))\n",
    "dimB = int(np.sqrt(rhoAB.shape[0]))\n",
    "print(\"Hmin=\",Hmin(rhoAB,dimA,dimB),\"Hmax=\",Hmax(rhoAB,dimA,dimB),\"dif = \", Hmax(rhoAB,dimA,dimB)-Hmin(rhoAB,dimA,dimB),\"upper bound of dif is 2log(d_a)=\", 2*np.log2(dimA))\n",
    "\n"
   ]
  },
  {
   "cell_type": "code",
   "execution_count": 43,
   "metadata": {},
   "outputs": [
    {
     "name": "stdout",
     "output_type": "stream",
     "text": [
      "Hmin= -1.999999999999929 Hmax= -1.9967748389853015 dif =  0.0032251610146274423 , upper bound of dif is 2log(d_a)= 4.0\n"
     ]
    }
   ],
   "source": [
    "# Example of a state \n",
    "# |phi> = a|00>+b|01>+c|10>+d|11>\n",
    "# rhoAB = |phi><phi|\n",
    "\n",
    "ketrho = np.array([1,0,0,0,0,1,0,0,0,0,1,0,0,0,0,1])\n",
    "\n",
    "rhoAB = np.outer(ketrho,ketrho)\n",
    "\n",
    "#rhoAB = rhoAB + 0.25*np.identity(4)\n",
    "\n",
    "#Define Up- a basis transformation\n",
    "Up = np.array(( [1,1],\n",
    "                [1,-1]))\n",
    "\n",
    "\n",
    "#Apply Up transform on A and B\n",
    "U = np.kron(Up,Up)\n",
    "\n",
    "\n",
    "#rhoAB = np.matmul(np.linalg.inv(U),np.matmul(rhoAB,U))\n",
    "\n",
    "#rhoAB = np.kron(rhoAB,rhoAB)\n",
    "\n",
    "#print(\"rhoAB=\\n\",rhoAB/np.trace(rhoAB))\n",
    "dimA = int(np.sqrt(rhoAB.shape[0]))\n",
    "dimB = int(np.sqrt(rhoAB.shape[0]))\n",
    "print(\"Hmin=\",Hmin(rhoAB,dimA,dimB),\"Hmax=\",Hmax(rhoAB,dimA,dimB),\"dif = \", Hmax(rhoAB,dimA,dimB)-Hmin(rhoAB,dimA,dimB),\", upper bound of dif is 2log(d_a)=\", 2*np.log2(dimA))"
   ]
  },
  {
   "cell_type": "code",
   "execution_count": 29,
   "metadata": {},
   "outputs": [
    {
     "name": "stdout",
     "output_type": "stream",
     "text": [
      "rhoAB=\n",
      " [[0.5 0.  0.  0. ]\n",
      " [0.  0.  0.  0. ]\n",
      " [0.  0.  0.  0. ]\n",
      " [0.  0.  0.  0.5]]\n",
      "Hmin= 3.1553419542439293e-09 Hmax= 3.989629180961981e-05 dif =  3.989313646766556e-05 , upper bound of dif is 2log(d_a)= 2.0\n"
     ]
    },
    {
     "data": {
      "text/plain": [
       "array([1., 0., 0., 1.])"
      ]
     },
     "execution_count": 29,
     "metadata": {},
     "output_type": "execute_result"
    }
   ],
   "source": [
    "#post measurement on Bob side\n",
    "\n",
    "\n",
    "rhoABp = rhoAB\n",
    "\n",
    "\n",
    "rhoABp[0,1]=rhoABp[0,3]=rhoABp[1,0]=rhoABp[1,2]=0\n",
    "rhoABp[2,1]=rhoABp[2,3]=rhoABp[3,0]=rhoABp[3,2]=0\n",
    "\n",
    "\n",
    "print(\"rhoAB=\\n\",rhoABp/np.trace(rhoABp))\n",
    "dimA = int(np.sqrt(rhoABp.shape[0]))\n",
    "dimB = int(np.sqrt(rhoABp.shape[0]))\n",
    "print(\"Hmin=\",Hmin(rhoABp,dimA,dimB),\"Hmax=\",Hmax(rhoABp,dimA,dimB),\"dif = \", Hmax(rhoABp,dimA,dimB)-Hmin(rhoABp,dimA,dimB),\", upper bound of dif is 2log(d_a)=\", 2*np.log2(dimA))\n",
    "\n",
    "np.linalg.eigvals(rhoABp)"
   ]
  },
  {
   "cell_type": "code",
   "execution_count": 11,
   "metadata": {},
   "outputs": [
    {
     "name": "stdout",
     "output_type": "stream",
     "text": [
      "maxA/minA = 1.0\n",
      "maxB/minB = 1.0\n",
      "maxAB/minAB = 1.0\n",
      "(maxA/minA)*(maxB/minB)=  1.0\n",
      "rhoA=\n",
      " [[1. 0.]\n",
      " [0. 1.]] \n",
      " rhoB=\n",
      " [[1. 0.]\n",
      " [0. 1.]]\n",
      "eigenvalues of rhoA=\n",
      " [1. 1.] \n",
      " eigenvalues of rhoB=\n",
      " [1. 1.] \n",
      " eigenvalues of rhoAB=\n",
      " [1. 0. 0. 1.]\n",
      "2\n",
      "rhoA(tnsor)rhoB=\n",
      " [[1. 0. 0. 0.]\n",
      " [0. 1. 0. 0.]\n",
      " [0. 0. 1. 0.]\n",
      " [0. 0. 0. 1.]]\n"
     ]
    }
   ],
   "source": [
    "#looking at the subsystems and at the ratio of the eigenvalues\n",
    "# example of a state with low igenvalue ratios maxA/minA maxB/minB but high maxAB/minAB, \n",
    "# so limiting the eigenvalues of the subsistems + LOCC is not eneugh to limit eigenvalues of the bipartite system.\n",
    "#rhoAB = np.array(([1,1,1,0],\n",
    "#                  [1,1600,0,1],\n",
    "#                  [1,0,1600,1],\n",
    "#                  [0,1,1,1]))\n",
    "\n",
    "n = int(np.sqrt(rhoAB.shape[0]))\n",
    "AB = cp.Parameter((n**2,n**2))\n",
    "AB.value = rhoAB\n",
    "rhoA = partial_trace(AB,[n,n],axis=1)\n",
    "rhoA = np.asmatrix(rhoA.value)\n",
    "rhoB = partial_trace(AB,[n,n],axis=0)\n",
    "rhoB = np.asmatrix(rhoB.value)\n",
    "nonzeroiegensAB = [np.linalg.eigvals(rhoAB)[i] for i in range(len(np.linalg.eigvals(rhoAB))) if np.linalg.eigvals(rhoAB)[i] > 0.001]\n",
    "nonzeroiegensA = [np.linalg.eigvals(rhoA)[i] for i in range(len(np.linalg.eigvals(rhoA))) if np.linalg.eigvals(rhoA)[i] > 0.001]\n",
    "nonzeroiegensB = [np.linalg.eigvals(rhoB)[i] for i in range(len(np.linalg.eigvals(rhoB))) if np.linalg.eigvals(rhoB)[i] > 0.001]\n",
    "\n",
    "print(\"maxA/minA =\", max(nonzeroiegensA)/min(nonzeroiegensA))\n",
    "print(\"maxB/minB =\", max(nonzeroiegensB)/min(nonzeroiegensB))\n",
    "print(\"maxAB/minAB =\", max(nonzeroiegensAB)/min(nonzeroiegensAB))\n",
    "print(\"(maxA/minA)*(maxB/minB)= \", (max(nonzeroiegensB)/min(nonzeroiegensB))*max(nonzeroiegensA)/min(nonzeroiegensA))\n",
    "print(\"rhoA=\\n\", rhoA,\"\\n\" ,\"rhoB=\\n\",rhoB)\n",
    "\n",
    "print(\"eigenvalues of rhoA=\\n\",np.linalg.eigvals(rhoA), \"\\n eigenvalues of rhoB=\\n\" ,np.linalg.eigvals(rhoB),\"\\n eigenvalues of rhoAB=\\n\", np.linalg.eigvals(rhoAB))\n",
    "\n",
    "print(np.trace(rhoAB))\n",
    "rhoC = np.kron(rhoA,rhoB)\n",
    "print(\"rhoA(tnsor)rhoB=\\n\",rhoC)"
   ]
  },
  {
   "cell_type": "markdown",
   "metadata": {},
   "source": [
    "## Now I tryed to calculate max_rhoB Hmin(A|B)_rho and min_rhoB Hmax(A|B)_rhoB to see if the difference can be bounded with limitations only on rhoA and rank rho_B (seems like this is not possible, maxHmin can be very big even if B is a small state)"
   ]
  },
  {
   "cell_type": "code",
   "execution_count": 12,
   "metadata": {},
   "outputs": [],
   "source": [
    "def Hmin_maxoverB(rhoA,dimB):\n",
    "    \"\"\"takes rhoA, rank(rhoB) numpy aray and int and returns max_rhoB H_min(A|B)_rho\"\"\"\n",
    "    if (np.asmatrix(rhoA).getH() == np.asmatrix(rhoA)).all():\n",
    "        n = rhoA.shape[0]\n",
    "        m = dimB\n",
    "        IA = np.identity(n)\n",
    "        IB = np.identity(m)\n",
    "        A = cp.Parameter((n,n))\n",
    "        B = cp.Variable((m,m),PSD = True)\n",
    "        A.value = rhoA/np.trace(rhoA)\n",
    "        #B.value = rhoB/np.trace(rhoB)\n",
    "\n",
    "        #AB = cp.Variable((m*n,m*n))\n",
    "        AB = cp.kron(A,B)#/cp.trace(cp.kron(A,B))\n",
    "\n",
    "\n",
    "        # Calculte exp(-H_min(A|B))\n",
    "        # Define and solve the CVXPY problem.\n",
    "        # Create a hermitian matrix variable.\n",
    "        XB = cp.Variable((m,m),pos=True) \n",
    "        # The operator >> denotes matrix inequality.\n",
    "\n",
    "\n",
    "        constraints = []\n",
    "        constraints += [cp.kron(IA,XB) >> AB] # cp.kron(A,B)*(1/cp.trace(cp.kron(A,B)))] #I*X >= rho_{AB} = A*B\n",
    "        constraints += [cp.trace(AB)<=1]\n",
    "        constraints += [cp.trace(B)<=1]\n",
    "        #constraints += [B<<0.0005*IB]\n",
    "        #constraints += [B>>0.25*IB]\n",
    "\n",
    "        prob = cp.Problem(cp.Minimize(cp.trace(XB)),      \n",
    "                          constraints)\n",
    "        prob.solve()\n",
    "        print(\"B=\",B.value)\n",
    "        print(prob.value)\n",
    "        return(-np.log2(prob.value))\n",
    "    else:\n",
    "        print(\"rhoA and rhoB must be squere and of the same dim\")"
   ]
  },
  {
   "cell_type": "code",
   "execution_count": 13,
   "metadata": {},
   "outputs": [
    {
     "name": "stdout",
     "output_type": "stream",
     "text": [
      "rhoABp=\n",
      " [[ 1  0  2  0]\n",
      " [ 0  4  0  8]\n",
      " [ 2  0  4  0]\n",
      " [ 0  8  0 16]]\n",
      "Hmin= 1.1449046324639059e-12 Hmax= 0.00021216670543102313 dif =  0.0002121667042861185 upper bound of dif is 2log(d_a)= 2.0\n"
     ]
    }
   ],
   "source": [
    "A = np.array([[1,2],\n",
    "              [2,4]])\n",
    "B = np.array([[1,0],\n",
    "              [0,4]])\n",
    "\n",
    "rAB = np.kron(A,B)\n",
    "\n",
    "print(\"rhoABp=\\n\",rAB)\n",
    "dimA = int(np.sqrt(rAB.shape[0]))\n",
    "dimB = int(np.sqrt(rAB.shape[0]))\n",
    "print(\"Hmin=\",Hmin(rAB,dimA,dimB),\"Hmax=\",Hmax(rAB,dimA,dimB),\"dif = \", Hmax(rAB,dimA,dimB)-Hmin(rAB,dimA,dimB),\"upper bound of dif is 2log(d_a)=\", 2*np.log2(dimA))\n"
   ]
  },
  {
   "cell_type": "code",
   "execution_count": 14,
   "metadata": {},
   "outputs": [
    {
     "data": {
      "text/plain": [
       "array([5.00000000e-01-1.19227256e-17j, 3.89394586e-17-1.95506225e-18j,\n",
       "       5.09902483e-17-1.71268960e-17j, 5.00000000e-01-1.06286796e-17j])"
      ]
     },
     "execution_count": 14,
     "metadata": {},
     "output_type": "execute_result"
    }
   ],
   "source": [
    "alpha = (3+1j)/(4*np.sqrt(2))\n",
    "beta = (np.sqrt(3)+np.sqrt(3)*1j)/(4*np.sqrt(2))\n",
    "gamma = (-1-3j)/(4*np.sqrt(2))\n",
    "\n",
    "\n",
    "\n",
    "B =       np.array(([alpha*np.conjugate(alpha),beta*np.conjugate(alpha),0,0],\n",
    "                    [alpha*np.conjugate(beta),beta*np.conjugate(beta),0,0],\n",
    "                    [0,0,beta*np.conjugate(beta),beta*np.conjugate(gamma)],\n",
    "                    [0,0,gamma*np.conjugate(beta),gamma*np.conjugate(gamma)]))\n",
    "\n",
    "np.linalg.eigvals(B)"
   ]
  },
  {
   "cell_type": "code",
   "execution_count": 15,
   "metadata": {},
   "outputs": [
    {
     "data": {
      "text/plain": [
       "(0.9999999999999998+0j)"
      ]
     },
     "execution_count": 15,
     "metadata": {},
     "output_type": "execute_result"
    }
   ],
   "source": [
    "alpha = (3+1j)/(4*np.sqrt(2))\n",
    "beta = (np.sqrt(3)+np.sqrt(3)*1j)/(4*np.sqrt(2))\n",
    "gamma = (-1-3j)/(4*np.sqrt(2))\n",
    "\n",
    "\n",
    "\n",
    "\n",
    "alpha*np.conjugate(alpha)+2*beta*np.conjugate(beta)+gamma*np.conjugate(gamma)"
   ]
  },
  {
   "cell_type": "code",
   "execution_count": 31,
   "metadata": {},
   "outputs": [
    {
     "name": "stdout",
     "output_type": "stream",
     "text": [
      "rhoAB =\n",
      " [[0.41666667 0.         0.         0.33333333]\n",
      " [0.         0.08333333 0.         0.        ]\n",
      " [0.         0.         0.08333333 0.        ]\n",
      " [0.33333333 0.         0.         0.41666667]]\n",
      "rhoB = \n",
      " [[0.5 0. ]\n",
      " [0.  0.5]]\n",
      "I(*)rhoB = \n",
      " [[0.5 0.  0.  0. ]\n",
      " [0.  0.5 0.  0. ]\n",
      " [0.  0.  0.5 0. ]\n",
      " [0.  0.  0.  0.5]]\n",
      "[0.91666667 0.25       0.91666667 0.91666667]\n"
     ]
    }
   ],
   "source": [
    "\n",
    "# cheking if H_dounarrow makes sense for Hmin at least on Bell states \n",
    "# yes\n",
    "\n",
    "ketrho = np.array([1,0,0,1])\n",
    "\n",
    "rhoAB = np.outer(ketrho,ketrho)\n",
    "\n",
    "rhoAB = rhoAB + 0.25*np.identity(4)\n",
    "\n",
    "rhoAB = rhoAB/np.trace(rhoAB)\n",
    "\n",
    "print(\"rhoAB =\\n\", rhoAB)\n",
    "rhoB = np_partial_trace(rhoAB,[2,2])\n",
    "rhoB = rhoB/np.trace(rhoB)\n",
    "print(\"rhoB = \\n\",rhoB)\n",
    "IrhoB = np.kron(np.identity(2),rhoB)\n",
    "Irhob = IrhoB/np.trace(IrhoB)\n",
    "#largest gamma that works is -1 as expected from Hmin on bell state\n",
    "gamma = -1   \n",
    "\n",
    "rhopo = 2**(-gamma)*IrhoB-rhoAB\n",
    "\n",
    "\n",
    "\n",
    "print(\"I(*)rhoB = \\n\",IrhoB)\n",
    "\n",
    "print(np.linalg.eigvals(rhopo))\n",
    "\n",
    "\n",
    "\n",
    "#np.linalg.eigvals(rhopo)>0\n"
   ]
  },
  {
   "cell_type": "code",
   "execution_count": 44,
   "metadata": {},
   "outputs": [],
   "source": [
    "# a function to calculate H_min^dounarrow(A|B)\n",
    "# unoptimized min entropy (and the function is also not very efficient)\n",
    "\n",
    "def Hminmin(rhoAB,dimA,dimB):\n",
    "    RAB = rhoAB/np.trace(rhoAB)\n",
    "    n = dimA\n",
    "    m = dimB\n",
    "    RB = np_partial_trace(RAB,[n,m])\n",
    "    RB = RB/np.trace(RB)\n",
    "    IrhoB = np.kron(np.identity(n),RB)\n",
    "    Irhob = IrhoB/np.trace(IrhoB)\n",
    "    L = [gamma/1000 - 4 for gamma in range(8001)]\n",
    "    H = []\n",
    "    for gamma in L:\n",
    "        rhopo = (2**(-gamma))*IrhoB-RAB\n",
    "        if (np.linalg.eigvals(rhopo)>=0).all():\n",
    "            H = H + [gamma]\n",
    "    return(max(H))\n",
    "\n",
    "\n"
   ]
  },
  {
   "cell_type": "code",
   "execution_count": 52,
   "metadata": {},
   "outputs": [
    {
     "name": "stdout",
     "output_type": "stream",
     "text": [
      "Hmindown(A|B)= -2.0\n"
     ]
    }
   ],
   "source": [
    "\n",
    "ketrho = np.array([2,0,0,0,0,2,0,0,0,0,1,0,0,0,0,1])\n",
    "\n",
    "rhoAB = np.outer(ketrho,ketrho)\n",
    "#rhoAB = rhoAB + 0.1*np.identity(4)\n",
    "\n",
    "rhoAB = rhoAB/np.trace(rhoAB)\n",
    "\n",
    "print(\"Hmindown(A|B)=\",Hminmin(rhoAB,4,4))"
   ]
  },
  {
   "cell_type": "code",
   "execution_count": 53,
   "metadata": {},
   "outputs": [
    {
     "name": "stdout",
     "output_type": "stream",
     "text": [
      "rhoA = \n",
      " [[0.4 0.  0.  0. ]\n",
      " [0.  0.4 0.  0. ]\n",
      " [0.  0.  0.1 0. ]\n",
      " [0.  0.  0.  0.1]] \n",
      " rhoB = \n",
      " [[0.4 0.  0.  0. ]\n",
      " [0.  0.4 0.  0. ]\n",
      " [0.  0.  0.1 0. ]\n",
      " [0.  0.  0.  0.1]]\n",
      "IrhoB = \n",
      " [[0.4 0.  0.  0.  0.  0.  0.  0.  0.  0.  0.  0.  0.  0.  0.  0. ]\n",
      " [0.  0.4 0.  0.  0.  0.  0.  0.  0.  0.  0.  0.  0.  0.  0.  0. ]\n",
      " [0.  0.  0.1 0.  0.  0.  0.  0.  0.  0.  0.  0.  0.  0.  0.  0. ]\n",
      " [0.  0.  0.  0.1 0.  0.  0.  0.  0.  0.  0.  0.  0.  0.  0.  0. ]\n",
      " [0.  0.  0.  0.  0.4 0.  0.  0.  0.  0.  0.  0.  0.  0.  0.  0. ]\n",
      " [0.  0.  0.  0.  0.  0.4 0.  0.  0.  0.  0.  0.  0.  0.  0.  0. ]\n",
      " [0.  0.  0.  0.  0.  0.  0.1 0.  0.  0.  0.  0.  0.  0.  0.  0. ]\n",
      " [0.  0.  0.  0.  0.  0.  0.  0.1 0.  0.  0.  0.  0.  0.  0.  0. ]\n",
      " [0.  0.  0.  0.  0.  0.  0.  0.  0.4 0.  0.  0.  0.  0.  0.  0. ]\n",
      " [0.  0.  0.  0.  0.  0.  0.  0.  0.  0.4 0.  0.  0.  0.  0.  0. ]\n",
      " [0.  0.  0.  0.  0.  0.  0.  0.  0.  0.  0.1 0.  0.  0.  0.  0. ]\n",
      " [0.  0.  0.  0.  0.  0.  0.  0.  0.  0.  0.  0.1 0.  0.  0.  0. ]\n",
      " [0.  0.  0.  0.  0.  0.  0.  0.  0.  0.  0.  0.  0.4 0.  0.  0. ]\n",
      " [0.  0.  0.  0.  0.  0.  0.  0.  0.  0.  0.  0.  0.  0.4 0.  0. ]\n",
      " [0.  0.  0.  0.  0.  0.  0.  0.  0.  0.  0.  0.  0.  0.  0.1 0. ]\n",
      " [0.  0.  0.  0.  0.  0.  0.  0.  0.  0.  0.  0.  0.  0.  0.  0.1]]\n",
      "rhoAB*IrhoB = \n",
      " [[0.16 0.   0.   0.   0.   0.16 0.   0.   0.   0.   0.02 0.   0.   0.\n",
      "  0.   0.02]\n",
      " [0.   0.   0.   0.   0.   0.   0.   0.   0.   0.   0.   0.   0.   0.\n",
      "  0.   0.  ]\n",
      " [0.   0.   0.   0.   0.   0.   0.   0.   0.   0.   0.   0.   0.   0.\n",
      "  0.   0.  ]\n",
      " [0.   0.   0.   0.   0.   0.   0.   0.   0.   0.   0.   0.   0.   0.\n",
      "  0.   0.  ]\n",
      " [0.   0.   0.   0.   0.   0.   0.   0.   0.   0.   0.   0.   0.   0.\n",
      "  0.   0.  ]\n",
      " [0.16 0.   0.   0.   0.   0.16 0.   0.   0.   0.   0.02 0.   0.   0.\n",
      "  0.   0.02]\n",
      " [0.   0.   0.   0.   0.   0.   0.   0.   0.   0.   0.   0.   0.   0.\n",
      "  0.   0.  ]\n",
      " [0.   0.   0.   0.   0.   0.   0.   0.   0.   0.   0.   0.   0.   0.\n",
      "  0.   0.  ]\n",
      " [0.   0.   0.   0.   0.   0.   0.   0.   0.   0.   0.   0.   0.   0.\n",
      "  0.   0.  ]\n",
      " [0.   0.   0.   0.   0.   0.   0.   0.   0.   0.   0.   0.   0.   0.\n",
      "  0.   0.  ]\n",
      " [0.08 0.   0.   0.   0.   0.08 0.   0.   0.   0.   0.01 0.   0.   0.\n",
      "  0.   0.01]\n",
      " [0.   0.   0.   0.   0.   0.   0.   0.   0.   0.   0.   0.   0.   0.\n",
      "  0.   0.  ]\n",
      " [0.   0.   0.   0.   0.   0.   0.   0.   0.   0.   0.   0.   0.   0.\n",
      "  0.   0.  ]\n",
      " [0.   0.   0.   0.   0.   0.   0.   0.   0.   0.   0.   0.   0.   0.\n",
      "  0.   0.  ]\n",
      " [0.   0.   0.   0.   0.   0.   0.   0.   0.   0.   0.   0.   0.   0.\n",
      "  0.   0.  ]\n",
      " [0.08 0.   0.   0.   0.   0.08 0.   0.   0.   0.   0.01 0.   0.   0.\n",
      "  0.   0.01]]\n",
      "H0(A|B) =  -1.556393348524385\n",
      "[0.4 0.4 0.1 0.1]\n"
     ]
    }
   ],
   "source": [
    "#Checking if H0downarrow makes sense:\n",
    "n = 4\n",
    "m = 4\n",
    "rhoB = np_partial_trace(rhoAB,[n,m],axis=0)\n",
    "rhoA = np_partial_trace(rhoAB,[n,m],axis=1)\n",
    "rhoA = rhoA/np.trace(rhoA)\n",
    "print(\"rhoA = \\n\",rhoA,\"\\n rhoB = \\n\",rhoB)\n",
    "rhoB = rhoB/np.trace(rhoB)\n",
    "IrhoB = np.kron(np.identity(n),rhoB)\n",
    "Irhob = IrhoB/np.trace(IrhoB)\n",
    "print(\"IrhoB = \\n\", IrhoB)\n",
    "rhop = np.matmul(rhoAB,IrhoB)\n",
    "print(\"rhoAB*IrhoB = \\n\",rhop)\n",
    "print(\"H0(A|B) = \",np.log2(np.trace(rhop)))\n",
    "print(np.linalg.eigvals(rhoB))"
   ]
  },
  {
   "cell_type": "code",
   "execution_count": 20,
   "metadata": {},
   "outputs": [
    {
     "data": {
      "text/plain": [
       "(array([[0.99557522, 0.        , 0.        , 0.06637168],\n",
       "        [0.        , 0.        , 0.        , 0.        ],\n",
       "        [0.        , 0.        , 0.        , 0.        ],\n",
       "        [0.06637168, 0.        , 0.        , 0.00442478]]),\n",
       " array([[0.99557522, 0.        , 0.        , 0.06637168],\n",
       "        [0.        , 0.        , 0.        , 0.        ],\n",
       "        [0.        , 0.        , 0.        , 0.        ],\n",
       "        [0.06637168, 0.        , 0.        , 0.00442478]]))"
      ]
     },
     "execution_count": 20,
     "metadata": {},
     "output_type": "execute_result"
    }
   ],
   "source": [
    "np.matmul(rhoAB,rhoAB),rhoAB"
   ]
  },
  {
   "cell_type": "code",
   "execution_count": 21,
   "metadata": {},
   "outputs": [
    {
     "name": "stdout",
     "output_type": "stream",
     "text": [
      "rho_AB test correct?  True\n",
      "rho_AC test correct?  True\n",
      "rho_A test correct?  True\n",
      "rho_B test correct?  True\n",
      "rho_C test correct?  True\n"
     ]
    }
   ],
   "source": [
    "# implament partial trace for min Hmax\n",
    "def expr_as_np_array(cvx_expr):\n",
    "    if cvx_expr.is_scalar():\n",
    "        return np.array(cvx_expr)\n",
    "    elif len(cvx_expr.shape) == 1:\n",
    "        return np.array([v for v in cvx_expr])\n",
    "    else:\n",
    "        # then cvx_expr is a 2d array\n",
    "        rows = []\n",
    "        for i in range(cvx_expr.shape[0]):\n",
    "            row = [cvx_expr[i,j] for j in range(cvx_expr.shape[1])]\n",
    "            rows.append(row)\n",
    "        arr = np.array(rows)\n",
    "        return arr\n",
    "\n",
    "\n",
    "def np_array_as_expr(np_arr):\n",
    "    aslist = np_arr.tolist()\n",
    "    expr = cp.bmat(aslist)\n",
    "    return expr\n",
    "\n",
    "\n",
    "def np_partial_trace(rho, dims, axis=0):\n",
    "    \"\"\"\n",
    "    Takes partial trace over the subsystem defined by 'axis'\n",
    "    rho: a matrix\n",
    "    dims: a list containing the dimension of each subsystem\n",
    "    axis: the index of the subsytem to be traced out\n",
    "    (We assume that each subsystem is square)\n",
    "    \"\"\"\n",
    "    dims_ = np.array(dims)\n",
    "    # Reshape the matrix into a tensor with the following shape:\n",
    "    # [dim_0, dim_1, ..., dim_n, dim_0, dim_1, ..., dim_n]\n",
    "    # Each subsystem gets one index for its row and another one for its column\n",
    "    reshaped_rho = np.reshape(rho, np.concatenate((dims_, dims_), axis=None))\n",
    "\n",
    "    # Move the subsystems to be traced towards the end\n",
    "    reshaped_rho = np.moveaxis(reshaped_rho, axis, -1)\n",
    "    reshaped_rho = np.moveaxis(reshaped_rho, len(dims)+axis-1, -1)\n",
    "\n",
    "    # Trace over the very last row and column indices\n",
    "    traced_out_rho = np.trace(reshaped_rho, axis1=-2, axis2=-1)\n",
    "\n",
    "    # traced_out_rho is still in the shape of a tensor\n",
    "    # Reshape back to a matrix\n",
    "    dims_untraced = np.delete(dims_, axis)\n",
    "    rho_dim = np.prod(dims_untraced)\n",
    "    return traced_out_rho.reshape([rho_dim, rho_dim])\n",
    "\n",
    "\n",
    "def partial_trace(rho, dims, axis=0):\n",
    "    if not isinstance(rho, Expression):\n",
    "        rho = cp.Constant(shape=rho.shape, value=rho)\n",
    "    rho_np = expr_as_np_array(rho)\n",
    "    traced_rho = np_partial_trace(rho_np, dims, axis)\n",
    "    traced_rho = np_array_as_expr(traced_rho)\n",
    "    return traced_rho\n",
    "\n",
    "\n",
    "\n",
    "\"\"\"\n",
    "Test out the partial_trace numpy module by creating a matrix\n",
    "rho_ABC = rho_A \\otimes rho_B \\otimes rho_C\n",
    "Each rho_i is normalized, i.e. Tr(rho_i) = 1\n",
    "\"\"\"\n",
    "\n",
    "# Generate five test cases\n",
    "rho_A = np.random.rand(4, 4) + 1j*np.random.rand(4, 4)\n",
    "rho_A /= np.trace(rho_A)\n",
    "rho_B = np.random.rand(3, 3) + 1j*np.random.rand(3, 3)\n",
    "rho_B /= np.trace(rho_B)\n",
    "rho_C = np.random.rand(2, 2) + 1j*np.random.rand(2, 2)\n",
    "rho_C /= np.trace(rho_C)\n",
    "rho_AB = np.kron(rho_A, rho_B)\n",
    "rho_AC = np.kron(rho_A, rho_C)\n",
    "\n",
    "# Construct a cvxpy Variable with value equal to rho_A \\otimes rho_B \\otimes rho_C.\n",
    "temp = np.kron(rho_AB, rho_C)\n",
    "rho_ABC = cp.Variable(shape=temp.shape, complex=True)\n",
    "rho_ABC.value = temp\n",
    "\n",
    "# Try to recover simpler tensors products by taking partial traces of\n",
    "# more complicated tensors.\n",
    "rho_AB_test = partial_trace(rho_ABC, [4, 3, 2], axis=2)\n",
    "rho_AC_test = partial_trace(rho_ABC, [4, 3, 2], axis=1)\n",
    "rho_A_test = partial_trace(rho_AB_test, [4, 3], axis=1)\n",
    "rho_B_test = partial_trace(rho_AB_test, [4, 3], axis=0)\n",
    "rho_C_test = partial_trace(rho_AC_test, [4, 2], axis=0)\n",
    "\n",
    "# See if the outputs of partial_trace are correct\n",
    "print(\"rho_AB test correct? \", np.allclose(rho_AB_test.value, rho_AB))\n",
    "print(\"rho_AC test correct? \", np.allclose(rho_AC_test.value, rho_AC))\n",
    "print(\"rho_A test correct? \", np.allclose(rho_A_test.value, rho_A))\n",
    "print(\"rho_B test correct? \", np.allclose(rho_B_test.value, rho_B))\n",
    "print(\"rho_C test correct? \", np.allclose(rho_C_test.value, rho_C))"
   ]
  },
  {
   "cell_type": "code",
   "execution_count": 22,
   "metadata": {},
   "outputs": [],
   "source": [
    "# Hmax(A|B) primal\n",
    "\n",
    "def Hmax_minB(rhoA, dimB):\n",
    "    n = rhoA.shape[0]\n",
    "    m = dimB\n",
    "    A = cp.Parameter((n,n))\n",
    "    A.value = rhoA\n",
    "    B = cp.Variable((m,m))\n",
    "    AB = cp.kron(A,B)#/cp.trace(cp.kron(A,B))\n",
    "    Y11 = cp.Variable((n*m,n*m),pos=True)\n",
    "    Y22 = cp.Variable((n*m,n*m),pos=True) \n",
    "    Y12 = cp.Variable((n*m,n*m))\n",
    "    Y21 = cp.Variable((n*m,n*m)) \n",
    "    I = np.identity(n)\n",
    "\n",
    "    I11 = np.matrix([[1,0],[0,0]])\n",
    "    I12 = np.matrix([[0,1],[0,0]])\n",
    "    I21 = np.matrix([[0,0],[1,0]])\n",
    "    I22 = np.matrix([[0,0],[0,1]])\n",
    "    YAB = cp.kron(I11,Y11)+cp.kron(I22,Y22)+cp.kron(I12,Y12)+cp.kron(I21,Y21)\n",
    "    II = np.identity(n*m)\n",
    "\n",
    "    constraints = []\n",
    "    constraints += [cp.kron(I11,Y11)+cp.kron(I22,Y22) >> 0.5*(cp.kron(I12,II)+cp.kron(I21,II))] \n",
    "    constraints += [gamma >= 0] \n",
    "    constraints += [cp.trace(AB) <= 1] \n",
    "    constraints += [gamma*I >> partial_trace(Y22,[n,m],axis = 1)] #should be gamma*I_B >> partial_trace_{A}(Y22)\n",
    "    prob = cp.Problem(cp.Minimize(cp.trace(AB*(Y11))+gamma),      \n",
    "                    constraints)\n",
    "    prob.solve()\n",
    "    return(2*np.log2(prob.value))\n"
   ]
  },
  {
   "cell_type": "code",
   "execution_count": null,
   "metadata": {},
   "outputs": [],
   "source": [
    "\n"
   ]
  },
  {
   "cell_type": "code",
   "execution_count": 23,
   "metadata": {},
   "outputs": [
    {
     "data": {
      "text/plain": [
       "array([[1., 0., 0., 0.],\n",
       "       [0., 2., 0., 0.],\n",
       "       [0., 0., 1., 0.],\n",
       "       [0., 0., 0., 2.]])"
      ]
     },
     "execution_count": 23,
     "metadata": {},
     "output_type": "execute_result"
    }
   ],
   "source": [
    "rb = np.array([ [1,0],\n",
    "                [0,2]])\n",
    "\n",
    "np.kron(np.identity(2),rb)"
   ]
  },
  {
   "cell_type": "code",
   "execution_count": null,
   "metadata": {},
   "outputs": [],
   "source": []
  }
 ],
 "metadata": {
  "interpreter": {
   "hash": "1fb438c24f12e9694e3c1ef1fc0df5d716094c1b78317fe4e5bf0b7f5075fb1d"
  },
  "kernelspec": {
   "display_name": "Python 3.8.8 64-bit ('base': conda)",
   "name": "python3"
  },
  "language_info": {
   "codemirror_mode": {
    "name": "ipython",
    "version": 3
   },
   "file_extension": ".py",
   "mimetype": "text/x-python",
   "name": "python",
   "nbconvert_exporter": "python",
   "pygments_lexer": "ipython3",
   "version": "3.8.8"
  },
  "orig_nbformat": 4
 },
 "nbformat": 4,
 "nbformat_minor": 2
}
